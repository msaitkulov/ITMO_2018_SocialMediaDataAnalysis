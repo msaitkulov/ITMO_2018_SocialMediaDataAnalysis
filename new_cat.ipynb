{
 "cells": [
  {
   "cell_type": "code",
   "execution_count": 1,
   "metadata": {},
   "outputs": [],
   "source": [
    "import pandas as pd\n",
    "import matplotlib.pyplot as plt\n",
    "from sklearn.model_selection import train_test_split\n",
    "from catboost import CatBoostClassifier\n",
    "from sklearn.preprocessing import StandardScaler\n",
    "from sklearn.linear_model import LogisticRegression\n",
    "from sklearn.tree import DecisionTreeClassifier\n",
    "from sklearn.ensemble import RandomForestClassifier\n",
    "from sklearn.metrics import f1_score\n",
    "import numpy as np\n",
    "from sklearn.neighbors import KNeighborsClassifier"
   ]
  },
  {
   "cell_type": "code",
   "execution_count": 7,
   "metadata": {},
   "outputs": [],
   "source": [
    "data = pd.read_csv('train.csv')"
   ]
  },
  {
   "cell_type": "code",
   "execution_count": 8,
   "metadata": {},
   "outputs": [],
   "source": [
    "data['9'] = data['9'].fillna(5)"
   ]
  },
  {
   "cell_type": "code",
   "execution_count": 9,
   "metadata": {},
   "outputs": [],
   "source": [
    "cols = [str(x) for x in range(0, 9)]\n",
    "col_values = [x for x in range(0, 6)]\n",
    "\n",
    "for col in cols:\n",
    "    for col_value in col_values:\n",
    "        filtered = data.loc[data['9'] == col_value, col]\n",
    "        data.loc[data['9'] == col_value, col] = filtered.fillna(filtered.median())"
   ]
  },
  {
   "cell_type": "code",
   "execution_count": 10,
   "metadata": {},
   "outputs": [],
   "source": [
    "tdf = pd.read_csv('test.csv')\n",
    "tdf['9'] = tdf['9'].fillna(5)\n",
    "for col in cols:\n",
    "    for col_value in col_values:\n",
    "        filtered = tdf.loc[tdf['9'] == col_value, col]\n",
    "        tdf.loc[tdf['9'] == col_value, col] = filtered.fillna(filtered.median())"
   ]
  },
  {
   "cell_type": "code",
   "execution_count": 13,
   "metadata": {},
   "outputs": [],
   "source": [
    "target = data.target\n",
    "features = data.drop('target', axis=1)"
   ]
  },
  {
   "cell_type": "code",
   "execution_count": 14,
   "metadata": {},
   "outputs": [],
   "source": [
    "features['9'] = features['9'].apply(lambda x: str(x))\n",
    "features = pd.get_dummies(features, columns=['9'], drop_first=True)"
   ]
  },
  {
   "cell_type": "code",
   "execution_count": 21,
   "metadata": {},
   "outputs": [],
   "source": [
    "tdf['9'] = tdf['9'].apply(lambda x: str(x))\n",
    "tdf = pd.get_dummies(tdf, columns=['9'], drop_first=True)"
   ]
  },
  {
   "cell_type": "code",
   "execution_count": 16,
   "metadata": {},
   "outputs": [],
   "source": [
    "random_state = 12345\n",
    "features_train, features_valid, target_train, target_valid = train_test_split(\n",
    "    features, target, test_size=0.25, random_state=random_state)"
   ]
  },
  {
   "cell_type": "code",
   "execution_count": 17,
   "metadata": {},
   "outputs": [
    {
     "name": "stdout",
     "output_type": "stream",
     "text": [
      "Лучшее дерево с глубиной 10 : F1 = 0.32096235163181713\n"
     ]
    }
   ],
   "source": [
    "best_depth = 0\n",
    "best_f1 = 0\n",
    "for depth in range(1, 50):\n",
    "    model = DecisionTreeClassifier(class_weight='balanced', random_state=random_state, max_depth=depth)\n",
    "    model.fit(features_train, target_train)\n",
    "    predictions_valid = model.predict(features_valid)\n",
    "    f1 = f1_score(target_valid, predictions_valid, average='macro')\n",
    "    if f1 > best_f1:\n",
    "        best_f1 = f1\n",
    "        best_depth = depth\n",
    "print(f'Лучшее дерево с глубиной {best_depth} : F1 = {best_f1}')"
   ]
  },
  {
   "cell_type": "code",
   "execution_count": 18,
   "metadata": {},
   "outputs": [
    {
     "name": "stdout",
     "output_type": "stream",
     "text": [
      "1 0 0\n",
      "4 0.28075637297939254 1\n",
      "7 0.34162036013101255 4\n",
      "10 0.35472789198609644 7\n",
      "13 0.36527160352185206 10\n",
      "16 0.38007305616334713 13\n",
      "19 0.3810692508898589 16\n",
      "22 0.3810692508898589 16\n",
      "25 0.3810692508898589 16\n",
      "28 0.3810692508898589 16\n",
      "31 0.38139242993875866 28\n",
      "34 0.3823997117647349 31\n",
      "37 0.3823997117647349 31\n",
      "40 0.3832273177092536 37\n",
      "43 0.38376297908337226 40\n",
      "46 0.38448145002116985 43\n",
      "49 0.38816853956103853 46\n",
      "52 0.38816853956103853 46\n",
      "55 0.38816853956103853 46\n",
      "58 0.38858954308402854 55\n",
      "61 0.38858954308402854 55\n",
      "64 0.3895372889103768 61\n",
      "67 0.3895372889103768 61\n",
      "70 0.390278365961816 67\n",
      "73 0.39222944798502846 70\n",
      "76 0.39320488354604327 73\n",
      "79 0.39320488354604327 73\n",
      "82 0.39320488354604327 73\n",
      "85 0.3939930330336835 82\n",
      "88 0.39429886129822467 85\n",
      "91 0.39429886129822467 85\n",
      "94 0.39429886129822467 85\n",
      "97 0.39429886129822467 85\n",
      "100 0.3957883603714582 97\n",
      "103 0.3957883603714582 97\n",
      "106 0.3957883603714582 97\n",
      "109 0.3957883603714582 97\n",
      "112 0.3957883603714582 97\n",
      "115 0.3957883603714582 97\n",
      "118 0.39747531012040344 115\n",
      "121 0.39747531012040344 115\n",
      "124 0.39747531012040344 115\n",
      "127 0.39747531012040344 115\n",
      "130 0.39747531012040344 115\n",
      "133 0.39747531012040344 115\n",
      "136 0.39747531012040344 115\n",
      "139 0.39747531012040344 115\n",
      "142 0.39747531012040344 115\n",
      "145 0.39747531012040344 115\n",
      "148 0.39747531012040344 115\n",
      "151 0.39747531012040344 115\n",
      "154 0.39747531012040344 115\n",
      "157 0.39747531012040344 115\n",
      "160 0.39747531012040344 115\n",
      "163 0.39747531012040344 115\n",
      "166 0.3989625626233152 163\n",
      "169 0.3989625626233152 163\n",
      "172 0.3989625626233152 163\n",
      "175 0.3989625626233152 163\n",
      "178 0.3989625626233152 163\n",
      "181 0.3989625626233152 163\n",
      "184 0.3989625626233152 163\n",
      "187 0.3989625626233152 163\n",
      "190 0.3989625626233152 163\n",
      "193 0.3989625626233152 163\n",
      "196 0.3989625626233152 163\n",
      "199 0.3989625626233152 163\n",
      "202 0.3989625626233152 163\n",
      "205 0.3989625626233152 163\n",
      "208 0.3989625626233152 163\n",
      "211 0.3989625626233152 163\n",
      "214 0.3989625626233152 163\n",
      "217 0.3989625626233152 163\n",
      "220 0.3993509950745361 217\n",
      "223 0.3993509950745361 217\n",
      "226 0.3993509950745361 217\n",
      "229 0.3993509950745361 217\n",
      "232 0.3993509950745361 217\n",
      "235 0.3993509950745361 217\n",
      "238 0.39949582715123155 235\n",
      "241 0.39949582715123155 235\n",
      "244 0.3995342794157867 241\n",
      "247 0.39991978458635175 244\n",
      "250 0.40045399094618617 247\n",
      "253 0.40045399094618617 247\n",
      "256 0.40045399094618617 247\n",
      "259 0.40045399094618617 247\n",
      "262 0.40045399094618617 247\n",
      "265 0.40045399094618617 247\n",
      "268 0.40045399094618617 247\n",
      "271 0.40045399094618617 247\n",
      "274 0.40045399094618617 247\n",
      "277 0.40045399094618617 247\n",
      "280 0.40045399094618617 247\n",
      "283 0.40045399094618617 247\n",
      "286 0.40045399094618617 247\n",
      "289 0.40045399094618617 247\n",
      "292 0.40045399094618617 247\n",
      "295 0.40045399094618617 247\n",
      "298 0.40045399094618617 247\n",
      "301 0.40045399094618617 247\n",
      "304 0.40045399094618617 247\n",
      "307 0.40045399094618617 247\n",
      "310 0.40045399094618617 247\n",
      "313 0.40045399094618617 247\n",
      "316 0.40045399094618617 247\n",
      "319 0.40045399094618617 247\n",
      "322 0.40045399094618617 247\n",
      "325 0.40045399094618617 247\n",
      "328 0.40045399094618617 247\n",
      "331 0.40045399094618617 247\n",
      "334 0.40045399094618617 247\n",
      "337 0.40045399094618617 247\n",
      "340 0.40045399094618617 247\n",
      "343 0.40045399094618617 247\n",
      "346 0.40045399094618617 247\n",
      "349 0.40045399094618617 247\n",
      "352 0.40045399094618617 247\n",
      "355 0.40045399094618617 247\n",
      "358 0.40045399094618617 247\n",
      "361 0.40045399094618617 247\n",
      "364 0.40045399094618617 247\n",
      "367 0.40045399094618617 247\n",
      "370 0.40045399094618617 247\n",
      "373 0.40045399094618617 247\n",
      "376 0.40045399094618617 247\n",
      "379 0.40045399094618617 247\n",
      "382 0.40045399094618617 247\n",
      "385 0.40045399094618617 247\n",
      "388 0.40045399094618617 247\n",
      "391 0.40045399094618617 247\n",
      "394 0.40045399094618617 247\n",
      "397 0.40045399094618617 247\n",
      "Лучший лес с n_estimators 247 : F1 = 0.40045399094618617\n"
     ]
    }
   ],
   "source": [
    "best_f1 = 0\n",
    "best_nestim = 0\n",
    "for n_estim in range(1, 400, 3):\n",
    "    print(n_estim, best_f1, best_nestim)\n",
    "    model = RandomForestClassifier(class_weight='balanced', max_depth=best_depth, random_state=random_state, n_estimators=n_estim)\n",
    "    model.fit(features_train, target_train)\n",
    "    predictions_valid = model.predict(features_valid)\n",
    "    f1 = f1_score(target_valid, predictions_valid, average='macro')\n",
    "    if f1 > best_f1:\n",
    "        best_f1 = f1\n",
    "        best_nestim = n_estim\n",
    "        best_model = model\n",
    "print(f'Лучший лес с n_estimators {best_nestim} : F1 = {best_f1}')"
   ]
  },
  {
   "cell_type": "code",
   "execution_count": 19,
   "metadata": {},
   "outputs": [
    {
     "data": {
      "text/plain": [
       "RandomForestClassifier(class_weight='balanced', max_depth=10, n_estimators=247,\n",
       "                       random_state=12345)"
      ]
     },
     "execution_count": 19,
     "metadata": {},
     "output_type": "execute_result"
    }
   ],
   "source": [
    "for_model = RandomForestClassifier(class_weight='balanced', max_depth=best_depth, random_state=random_state, n_estimators=best_nestim)\n",
    "for_model.fit(features, target)"
   ]
  },
  {
   "cell_type": "code",
   "execution_count": 22,
   "metadata": {},
   "outputs": [],
   "source": [
    "sub = pd.read_csv('sample-submission.csv')\n",
    "predictions_test = for_model.predict(tdf)\n",
    "sub['target'] = pd.Series(predictions_test)\n",
    "sub.to_csv('sub.csv')"
   ]
  },
  {
   "cell_type": "code",
   "execution_count": null,
   "metadata": {},
   "outputs": [],
   "source": []
  }
 ],
 "metadata": {
  "kernelspec": {
   "display_name": "Python 3",
   "language": "python",
   "name": "python3"
  },
  "language_info": {
   "codemirror_mode": {
    "name": "ipython",
    "version": 3
   },
   "file_extension": ".py",
   "mimetype": "text/x-python",
   "name": "python",
   "nbconvert_exporter": "python",
   "pygments_lexer": "ipython3",
   "version": "3.8.5"
  }
 },
 "nbformat": 4,
 "nbformat_minor": 4
}
