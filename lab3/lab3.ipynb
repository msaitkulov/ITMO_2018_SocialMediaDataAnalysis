{
 "cells": [
  {
   "cell_type": "code",
   "execution_count": 198,
   "metadata": {},
   "outputs": [],
   "source": [
    "import pandas as pd\n",
    "import numpy as np"
   ]
  },
  {
   "cell_type": "markdown",
   "metadata": {},
   "source": [
    "# Reading data from csv"
   ]
  },
  {
   "cell_type": "code",
   "execution_count": 380,
   "metadata": {},
   "outputs": [
    {
     "data": {
      "text/html": [
       "<div>\n",
       "<style scoped>\n",
       "    .dataframe tbody tr th:only-of-type {\n",
       "        vertical-align: middle;\n",
       "    }\n",
       "\n",
       "    .dataframe tbody tr th {\n",
       "        vertical-align: top;\n",
       "    }\n",
       "\n",
       "    .dataframe thead th {\n",
       "        text-align: right;\n",
       "    }\n",
       "</style>\n",
       "<table border=\"1\" class=\"dataframe\">\n",
       "  <thead>\n",
       "    <tr style=\"text-align: right;\">\n",
       "      <th></th>\n",
       "      <th>row ID</th>\n",
       "      <th>educationInfoForAgeGroupEstimation</th>\n",
       "      <th>workInfoForAgeGroupEstimation</th>\n",
       "      <th>gender</th>\n",
       "      <th>realAge</th>\n",
       "      <th>ageGroup</th>\n",
       "      <th>relationship</th>\n",
       "      <th>educationLevel</th>\n",
       "      <th>occupation</th>\n",
       "      <th>income</th>\n",
       "    </tr>\n",
       "  </thead>\n",
       "  <tbody>\n",
       "    <tr>\n",
       "      <th>0</th>\n",
       "      <td>d0cc2d6caf6eb55ccf606770f24df2b5</td>\n",
       "      <td>NaN</td>\n",
       "      <td>NaN</td>\n",
       "      <td>female</td>\n",
       "      <td>NaN</td>\n",
       "      <td>NaN</td>\n",
       "      <td>NaN</td>\n",
       "      <td>NaN</td>\n",
       "      <td>NaN</td>\n",
       "      <td>NaN</td>\n",
       "    </tr>\n",
       "    <tr>\n",
       "      <th>1</th>\n",
       "      <td>eb4e2aa0bf687227821b17cfcd5365e3</td>\n",
       "      <td>Bukit Batok Secondary School ITE College West ...</td>\n",
       "      <td>NaN</td>\n",
       "      <td>female</td>\n",
       "      <td>NaN</td>\n",
       "      <td>NaN</td>\n",
       "      <td>NaN</td>\n",
       "      <td>college</td>\n",
       "      <td>NaN</td>\n",
       "      <td>NaN</td>\n",
       "    </tr>\n",
       "    <tr>\n",
       "      <th>2</th>\n",
       "      <td>acfb8e93139fe820996b27ee3c6bc9db</td>\n",
       "      <td>St Patrick&amp;#039;s School, Singapore Class of 2...</td>\n",
       "      <td>NaN</td>\n",
       "      <td>male</td>\n",
       "      <td>NaN</td>\n",
       "      <td>AGE10_20</td>\n",
       "      <td>single</td>\n",
       "      <td>college</td>\n",
       "      <td>NaN</td>\n",
       "      <td>NaN</td>\n",
       "    </tr>\n",
       "    <tr>\n",
       "      <th>3</th>\n",
       "      <td>ea251951bd3c7667daf214e8efa92f4e</td>\n",
       "      <td>NaN</td>\n",
       "      <td>NaN</td>\n",
       "      <td>female</td>\n",
       "      <td>NaN</td>\n",
       "      <td>NaN</td>\n",
       "      <td>NaN</td>\n",
       "      <td>NaN</td>\n",
       "      <td>NaN</td>\n",
       "      <td>$$</td>\n",
       "    </tr>\n",
       "    <tr>\n",
       "      <th>4</th>\n",
       "      <td>f8f7b497ad8167535345bfc3d59d6aaa</td>\n",
       "      <td>NaN</td>\n",
       "      <td>PT. Duta Marga Lestarindo September 2013 to pr...</td>\n",
       "      <td>female</td>\n",
       "      <td>NaN</td>\n",
       "      <td>NaN</td>\n",
       "      <td>NaN</td>\n",
       "      <td>NaN</td>\n",
       "      <td>archetecture and engineering</td>\n",
       "      <td>NaN</td>\n",
       "    </tr>\n",
       "  </tbody>\n",
       "</table>\n",
       "</div>"
      ],
      "text/plain": [
       "                             row ID  \\\n",
       "0  d0cc2d6caf6eb55ccf606770f24df2b5   \n",
       "1  eb4e2aa0bf687227821b17cfcd5365e3   \n",
       "2  acfb8e93139fe820996b27ee3c6bc9db   \n",
       "3  ea251951bd3c7667daf214e8efa92f4e   \n",
       "4  f8f7b497ad8167535345bfc3d59d6aaa   \n",
       "\n",
       "                  educationInfoForAgeGroupEstimation  \\\n",
       "0                                                NaN   \n",
       "1  Bukit Batok Secondary School ITE College West ...   \n",
       "2  St Patrick&#039;s School, Singapore Class of 2...   \n",
       "3                                                NaN   \n",
       "4                                                NaN   \n",
       "\n",
       "                       workInfoForAgeGroupEstimation  gender  realAge  \\\n",
       "0                                                NaN  female      NaN   \n",
       "1                                                NaN  female      NaN   \n",
       "2                                                NaN    male      NaN   \n",
       "3                                                NaN  female      NaN   \n",
       "4  PT. Duta Marga Lestarindo September 2013 to pr...  female      NaN   \n",
       "\n",
       "   ageGroup relationship educationLevel                    occupation income  \n",
       "0       NaN          NaN            NaN                           NaN    NaN  \n",
       "1       NaN          NaN        college                           NaN    NaN  \n",
       "2  AGE10_20       single        college                           NaN    NaN  \n",
       "3       NaN          NaN            NaN                           NaN     $$  \n",
       "4       NaN          NaN            NaN  archetecture and engineering    NaN  "
      ]
     },
     "execution_count": 380,
     "metadata": {},
     "output_type": "execute_result"
    }
   ],
   "source": [
    "data_Singapore = pd.read_csv(\"data/SingaporeTrain.csv\")\n",
    "data_NY = pd.read_csv(\"data/NYTrain.csv\")\n",
    "data_London = pd.read_csv(\"data/LondonTrain.csv\")\n",
    "data_Singapore.head()\n",
    "# data_NY.head()\n",
    "# data_London.head()"
   ]
  },
  {
   "cell_type": "markdown",
   "metadata": {},
   "source": [
    "# Combining all the data to a single dataframe"
   ]
  },
  {
   "cell_type": "code",
   "execution_count": 414,
   "metadata": {},
   "outputs": [
    {
     "data": {
      "text/plain": [
       "(10241, 11)"
      ]
     },
     "execution_count": 414,
     "metadata": {},
     "output_type": "execute_result"
    }
   ],
   "source": [
    "data_Singapore['source'] = 'Singapore'\n",
    "data_NY['source'] = 'NY'\n",
    "data_London['source'] = 'London'\n",
    "data = pd.concat([data_Singapore, data_NY, data_London],ignore_index=True)\n",
    "data.shape"
   ]
  },
  {
   "cell_type": "code",
   "execution_count": 604,
   "metadata": {},
   "outputs": [
    {
     "data": {
      "text/plain": [
       "array(['Singapore', 'NY', 'London'], dtype=object)"
      ]
     },
     "execution_count": 604,
     "metadata": {},
     "output_type": "execute_result"
    }
   ],
   "source": [
    "data['source'].unique()"
   ]
  },
  {
   "cell_type": "code",
   "execution_count": 383,
   "metadata": {},
   "outputs": [
    {
     "data": {
      "text/plain": [
       "array(['female', 'male', nan], dtype=object)"
      ]
     },
     "execution_count": 383,
     "metadata": {},
     "output_type": "execute_result"
    }
   ],
   "source": [
    "data['gender'].unique()"
   ]
  },
  {
   "cell_type": "code",
   "execution_count": 384,
   "metadata": {},
   "outputs": [
    {
     "data": {
      "text/plain": [
       "array([nan, 27., 19., 20., 22., 21., 34., 31., 23., 18., 36., 24., 26.,\n",
       "       29., 30., 25., 56., 46., 33., 28., 82., 35., 37., 39.])"
      ]
     },
     "execution_count": 384,
     "metadata": {},
     "output_type": "execute_result"
    }
   ],
   "source": [
    "data['realAge'].unique()"
   ]
  },
  {
   "cell_type": "code",
   "execution_count": 385,
   "metadata": {},
   "outputs": [
    {
     "data": {
      "text/plain": [
       "array([nan, 'AGE10_20', 'AGE20_30', 'AGE30_40', 'AGE40_50', 'AGE50_INF'],\n",
       "      dtype=object)"
      ]
     },
     "execution_count": 385,
     "metadata": {},
     "output_type": "execute_result"
    }
   ],
   "source": [
    "data['ageGroup'].unique()"
   ]
  },
  {
   "cell_type": "code",
   "execution_count": 386,
   "metadata": {},
   "outputs": [
    {
     "data": {
      "text/plain": [
       "array([nan, 'single', 'in a relationship', 'married'], dtype=object)"
      ]
     },
     "execution_count": 386,
     "metadata": {},
     "output_type": "execute_result"
    }
   ],
   "source": [
    "data['relationship'].unique()"
   ]
  },
  {
   "cell_type": "code",
   "execution_count": 387,
   "metadata": {},
   "outputs": [
    {
     "data": {
      "text/plain": [
       "array([nan, 'college', 'school', 'undergraduate', 'graduate'],\n",
       "      dtype=object)"
      ]
     },
     "execution_count": 387,
     "metadata": {},
     "output_type": "execute_result"
    }
   ],
   "source": [
    "data['educationLevel'].unique()"
   ]
  },
  {
   "cell_type": "code",
   "execution_count": 388,
   "metadata": {},
   "outputs": [
    {
     "data": {
      "text/plain": [
       "array([nan, 'archetecture and engineering',\n",
       "       'food preparation and service related',\n",
       "       'arts, design, entertainment, sports, and media', 'management',\n",
       "       'office and administrative support', 'personal care and service',\n",
       "       'protective service', 'healthcare support', 'sales and related',\n",
       "       'legal', 'transportation and material moving',\n",
       "       'computer and mathematical', 'production',\n",
       "       'life, physical, and social science',\n",
       "       'education, training, and library',\n",
       "       'healthcare practitioners and technical',\n",
       "       'building and grounds cleaning and maintenance',\n",
       "       'farming, fishing and forestry', 'construction and extraction',\n",
       "       'business and financial operations',\n",
       "       'community and social service'], dtype=object)"
      ]
     },
     "execution_count": 388,
     "metadata": {},
     "output_type": "execute_result"
    }
   ],
   "source": [
    "data['occupation'].unique()"
   ]
  },
  {
   "cell_type": "code",
   "execution_count": 389,
   "metadata": {},
   "outputs": [
    {
     "data": {
      "text/plain": [
       "array([nan, '$$', '$', '$$$', '$$$$'], dtype=object)"
      ]
     },
     "execution_count": 389,
     "metadata": {},
     "output_type": "execute_result"
    }
   ],
   "source": [
    "data['income'].unique()"
   ]
  },
  {
   "cell_type": "markdown",
   "metadata": {},
   "source": [
    "# Exctracting features from \"workInfoForAgeGroupEstimation\""
   ]
  },
  {
   "cell_type": "code",
   "execution_count": 738,
   "metadata": {
    "scrolled": true
   },
   "outputs": [
    {
     "data": {
      "text/plain": [
       "'PT. Duta Marga Lestarindo September 2013 to present Land Transport Authority Project Engineer � August 2011 to July 2013 T.Y. Lin International Civil Engineer � January 2010 to June 2010'"
      ]
     },
     "execution_count": 738,
     "metadata": {},
     "output_type": "execute_result"
    }
   ],
   "source": [
    "row_id = 4\n",
    "row = data['workInfoForAgeGroupEstimation'][row_id]\n",
    "# row = 'PT. Duta Marga Lestarindo September 19 present Land Transport Authority Project Engineer � August 2011 to July 2013 T.Y. Lin International Civil Engineer � January 2010 to June 2010'\n",
    "row"
   ]
  },
  {
   "cell_type": "code",
   "execution_count": 739,
   "metadata": {},
   "outputs": [],
   "source": [
    "def process_work_info(row):\n",
    "    years_raw = re.compile(r'\\b(?:19|20)\\d{2}|\\bpresent').findall(row)\n",
    "    years =  [int(year) if year != 'present' else 2018 for year in years_raw]\n",
    "    if len(years)<2:\n",
    "        return None\n",
    "    else:\n",
    "#         print(\"Extracted years:\",years)\n",
    "        pairs = [years[i:i+2] for i in range(0, len(years)-1, 2)]\n",
    "        lengths = [pair[1]-pair[0] for pair in pairs]\n",
    "        number_of_places = len(pairs)\n",
    "        max_length = max(lengths)\n",
    "        min_length = min(lengths)\n",
    "        total_length = sum(lengths)\n",
    "        mean_length = total_length / float(len(lengths))\n",
    "        start_year = min(years)\n",
    "        working_now = None\n",
    "        if len(years_raw)>0:\n",
    "            working_now = 'present' in years_raw \n",
    "    #     print(start_year)\n",
    "    #     print(number_of_places)\n",
    "    #     print(total_length)\n",
    "    #     print(mean_length)\n",
    "    #     print(min_length)\n",
    "    #     print(max_length)\n",
    "    #     print(working_now)\n",
    "    return start_year, number_of_places, total_length, mean_length, min_length, max_length, working_now"
   ]
  },
  {
   "cell_type": "code",
   "execution_count": 740,
   "metadata": {
    "scrolled": true
   },
   "outputs": [
    {
     "data": {
      "text/plain": [
       "(2010, 3, 7, 2.3333333333333335, 0, 5, True)"
      ]
     },
     "execution_count": 740,
     "metadata": {},
     "output_type": "execute_result"
    }
   ],
   "source": [
    "process_work_info(row)"
   ]
  },
  {
   "cell_type": "markdown",
   "metadata": {},
   "source": [
    "# Exctracting features from \"educationInfoForAgeGroupEstimation\""
   ]
  },
  {
   "cell_type": "code",
   "execution_count": null,
   "metadata": {},
   "outputs": [],
   "source": [
    "# possible_levels = ['college', 'school', 'undergraduate', 'graduate']\n",
    "\n",
    "# possible_values_for_levels = {}\n",
    "# \"Secondary School\", \"Ngee\", \"Institute\", \"University\", \"High School\"\n",
    "# # CHIJ Secondary (Toa Payoh) - автономная католическая школа для девочек в Сингапуре. \n",
    "# Class of 2010"
   ]
  },
  {
   "cell_type": "code",
   "execution_count": 789,
   "metadata": {
    "scrolled": false
   },
   "outputs": [
    {
     "data": {
      "text/plain": [
       "'SMK Seri Tanjong Class of 2009 � Melaka sek. men. seri tanjung,melaka (PMR) Class of 2005 � Malacca City, Malaysia sek. men. seri tanjung,melaka (SPM) Class of 2007 Maktab Koperasi Malaysia Class of 2012 � Kuching, Malaysia Uni of Oxford Oxford, Oxfordshire skm seri tanjung Class of 2009 � Malacca City, Malaysia'"
      ]
     },
     "execution_count": 789,
     "metadata": {},
     "output_type": "execute_result"
    }
   ],
   "source": [
    "row_id = 45\n",
    "row = data['educationInfoForAgeGroupEstimation'][row_id]\n",
    "# row = \"Republic Polytechnic 2012 to 2015 � Singapore CHIJ Kellock Singapore CHIJ St. Theresa&#039;s Convent Class of 2011 � Singapore Republic Polytechnic Integrated Event Management � Singapore\"\n",
    "row"
   ]
  },
  {
   "cell_type": "code",
   "execution_count": 785,
   "metadata": {
    "scrolled": true
   },
   "outputs": [],
   "source": [
    "def process_education_info(row):\n",
    "    class_of_years = [int(i) for i in re.compile(r'(?<=of )\\d{4}').findall(row)]\n",
    "    range_years_starts = [int(i) for i in re.compile(r'\\b(?:19|20)\\d{2}(?= to )').findall(row)]\n",
    "    range_years_ends = [int(i) if i != 'present' else 2018 for i in re.compile(r'(?<= to )(?:19|20)\\d{2}|\\bpresent').findall(row)]\n",
    "\n",
    "    first_start_year = None\n",
    "    last_start_year = None\n",
    "    if len(class_of_years)>0 or len(range_years_starts)>0:\n",
    "        first_start_year = min(class_of_years+range_years_starts)\n",
    "        last_start_year = max(class_of_years+range_years_starts) \n",
    "\n",
    "    \n",
    "    finish_year = None\n",
    "    if len(range_years_ends)>0:\n",
    "        finish_year = max(range_years_ends)\n",
    "    # else\n",
    "    #     if len(class_of_years)>0 | len(range_years_starts)>0:\n",
    "    #     finish_year = max(class_of_years) + 4 #usually one program = 4year\n",
    "\n",
    "    # study_now = None\n",
    "\n",
    "    number_of_programs = None\n",
    "    num = len(class_of_years)+len(range_years_starts)\n",
    "    if num<1 and len(row)>0:\n",
    "        number_of_programs = 1\n",
    "    else:\n",
    "        number_of_programs = num\n",
    "\n",
    "    return first_start_year, last_start_year, finish_year, number_of_programs"
   ]
  },
  {
   "cell_type": "code",
   "execution_count": 786,
   "metadata": {},
   "outputs": [
    {
     "data": {
      "text/plain": [
       "(2005, 2012, None, 5)"
      ]
     },
     "execution_count": 786,
     "metadata": {},
     "output_type": "execute_result"
    }
   ],
   "source": [
    "process_education_info(row)"
   ]
  },
  {
   "cell_type": "markdown",
   "metadata": {},
   "source": [
    "# I think we should build classifier on \n",
    "//all text from education, work and occupation for .. prediction.."
   ]
  },
  {
   "cell_type": "code",
   "execution_count": null,
   "metadata": {},
   "outputs": [],
   "source": [
    "# data.shape\n",
    "# (10241, 11)\n",
    "# data[data.realAge.isnull()].shape \n",
    "# (10039, 11)\n",
    "# data[data.ageGroup.isnull()].shape \n",
    "# (9179, 11)"
   ]
  },
  {
   "cell_type": "code",
   "execution_count": 455,
   "metadata": {},
   "outputs": [
    {
     "data": {
      "text/plain": [
       "(9179, 11)"
      ]
     },
     "execution_count": 455,
     "metadata": {},
     "output_type": "execute_result"
    }
   ],
   "source": [
    "data[data.ageGroup.isnull()].shape \n",
    "# (9179, 11)\n",
    "# [['realAge', 'ageGroup']][20:]"
   ]
  },
  {
   "cell_type": "code",
   "execution_count": null,
   "metadata": {},
   "outputs": [],
   "source": []
  }
 ],
 "metadata": {
  "kernelspec": {
   "display_name": "Python 3",
   "language": "python",
   "name": "python3"
  },
  "language_info": {
   "codemirror_mode": {
    "name": "ipython",
    "version": 3
   },
   "file_extension": ".py",
   "mimetype": "text/x-python",
   "name": "python",
   "nbconvert_exporter": "python",
   "pygments_lexer": "ipython3",
   "version": "3.6.5"
  }
 },
 "nbformat": 4,
 "nbformat_minor": 2
}
