{
 "cells": [
  {
   "cell_type": "code",
   "execution_count": 524,
   "metadata": {},
   "outputs": [],
   "source": [
    "import pandas as pd\n",
    "import numpy as np\n",
    "import re"
   ]
  },
  {
   "cell_type": "markdown",
   "metadata": {},
   "source": [
    "# Reading data from csv"
   ]
  },
  {
   "cell_type": "code",
   "execution_count": 525,
   "metadata": {},
   "outputs": [
    {
     "data": {
      "text/html": [
       "<div>\n",
       "<style scoped>\n",
       "    .dataframe tbody tr th:only-of-type {\n",
       "        vertical-align: middle;\n",
       "    }\n",
       "\n",
       "    .dataframe tbody tr th {\n",
       "        vertical-align: top;\n",
       "    }\n",
       "\n",
       "    .dataframe thead th {\n",
       "        text-align: right;\n",
       "    }\n",
       "</style>\n",
       "<table border=\"1\" class=\"dataframe\">\n",
       "  <thead>\n",
       "    <tr style=\"text-align: right;\">\n",
       "      <th></th>\n",
       "      <th>row ID</th>\n",
       "      <th>educationInfoForAgeGroupEstimation</th>\n",
       "      <th>workInfoForAgeGroupEstimation</th>\n",
       "      <th>gender</th>\n",
       "      <th>realAge</th>\n",
       "      <th>ageGroup</th>\n",
       "      <th>relationship</th>\n",
       "      <th>educationLevel</th>\n",
       "      <th>occupation</th>\n",
       "      <th>income</th>\n",
       "    </tr>\n",
       "  </thead>\n",
       "  <tbody>\n",
       "    <tr>\n",
       "      <th>0</th>\n",
       "      <td>d0cc2d6caf6eb55ccf606770f24df2b5</td>\n",
       "      <td>NaN</td>\n",
       "      <td>NaN</td>\n",
       "      <td>female</td>\n",
       "      <td>NaN</td>\n",
       "      <td>NaN</td>\n",
       "      <td>NaN</td>\n",
       "      <td>NaN</td>\n",
       "      <td>NaN</td>\n",
       "      <td>NaN</td>\n",
       "    </tr>\n",
       "    <tr>\n",
       "      <th>1</th>\n",
       "      <td>eb4e2aa0bf687227821b17cfcd5365e3</td>\n",
       "      <td>Bukit Batok Secondary School ITE College West ...</td>\n",
       "      <td>NaN</td>\n",
       "      <td>female</td>\n",
       "      <td>NaN</td>\n",
       "      <td>NaN</td>\n",
       "      <td>NaN</td>\n",
       "      <td>college</td>\n",
       "      <td>NaN</td>\n",
       "      <td>NaN</td>\n",
       "    </tr>\n",
       "    <tr>\n",
       "      <th>2</th>\n",
       "      <td>acfb8e93139fe820996b27ee3c6bc9db</td>\n",
       "      <td>St Patrick&amp;#039;s School, Singapore Class of 2...</td>\n",
       "      <td>NaN</td>\n",
       "      <td>male</td>\n",
       "      <td>NaN</td>\n",
       "      <td>AGE10_20</td>\n",
       "      <td>single</td>\n",
       "      <td>college</td>\n",
       "      <td>NaN</td>\n",
       "      <td>NaN</td>\n",
       "    </tr>\n",
       "    <tr>\n",
       "      <th>3</th>\n",
       "      <td>ea251951bd3c7667daf214e8efa92f4e</td>\n",
       "      <td>NaN</td>\n",
       "      <td>NaN</td>\n",
       "      <td>female</td>\n",
       "      <td>NaN</td>\n",
       "      <td>NaN</td>\n",
       "      <td>NaN</td>\n",
       "      <td>NaN</td>\n",
       "      <td>NaN</td>\n",
       "      <td>$$</td>\n",
       "    </tr>\n",
       "    <tr>\n",
       "      <th>4</th>\n",
       "      <td>f8f7b497ad8167535345bfc3d59d6aaa</td>\n",
       "      <td>NaN</td>\n",
       "      <td>PT. Duta Marga Lestarindo September 2013 to pr...</td>\n",
       "      <td>female</td>\n",
       "      <td>NaN</td>\n",
       "      <td>NaN</td>\n",
       "      <td>NaN</td>\n",
       "      <td>NaN</td>\n",
       "      <td>archetecture and engineering</td>\n",
       "      <td>NaN</td>\n",
       "    </tr>\n",
       "  </tbody>\n",
       "</table>\n",
       "</div>"
      ],
      "text/plain": [
       "                             row ID  \\\n",
       "0  d0cc2d6caf6eb55ccf606770f24df2b5   \n",
       "1  eb4e2aa0bf687227821b17cfcd5365e3   \n",
       "2  acfb8e93139fe820996b27ee3c6bc9db   \n",
       "3  ea251951bd3c7667daf214e8efa92f4e   \n",
       "4  f8f7b497ad8167535345bfc3d59d6aaa   \n",
       "\n",
       "                  educationInfoForAgeGroupEstimation  \\\n",
       "0                                                NaN   \n",
       "1  Bukit Batok Secondary School ITE College West ...   \n",
       "2  St Patrick&#039;s School, Singapore Class of 2...   \n",
       "3                                                NaN   \n",
       "4                                                NaN   \n",
       "\n",
       "                       workInfoForAgeGroupEstimation  gender  realAge  \\\n",
       "0                                                NaN  female      NaN   \n",
       "1                                                NaN  female      NaN   \n",
       "2                                                NaN    male      NaN   \n",
       "3                                                NaN  female      NaN   \n",
       "4  PT. Duta Marga Lestarindo September 2013 to pr...  female      NaN   \n",
       "\n",
       "   ageGroup relationship educationLevel                    occupation income  \n",
       "0       NaN          NaN            NaN                           NaN    NaN  \n",
       "1       NaN          NaN        college                           NaN    NaN  \n",
       "2  AGE10_20       single        college                           NaN    NaN  \n",
       "3       NaN          NaN            NaN                           NaN     $$  \n",
       "4       NaN          NaN            NaN  archetecture and engineering    NaN  "
      ]
     },
     "execution_count": 525,
     "metadata": {},
     "output_type": "execute_result"
    }
   ],
   "source": [
    "data_Singapore = pd.read_csv(\"data/SingaporeTrain.csv\")\n",
    "data_NY = pd.read_csv(\"data/NYTrain.csv\")\n",
    "data_London = pd.read_csv(\"data/LondonTrain.csv\")\n",
    "data_Singapore.head()\n",
    "# data_NY.head()\n",
    "# data_London.head()"
   ]
  },
  {
   "cell_type": "markdown",
   "metadata": {},
   "source": [
    "# Combining all the data to a single dataframe"
   ]
  },
  {
   "cell_type": "code",
   "execution_count": 526,
   "metadata": {},
   "outputs": [
    {
     "data": {
      "text/plain": [
       "(10241, 11)"
      ]
     },
     "execution_count": 526,
     "metadata": {},
     "output_type": "execute_result"
    }
   ],
   "source": [
    "data_Singapore['source'] = 'Singapore'\n",
    "data_NY['source'] = 'NY'\n",
    "data_London['source'] = 'London'\n",
    "data = pd.concat([data_Singapore, data_NY, data_London],ignore_index=True)\n",
    "data.shape"
   ]
  },
  {
   "cell_type": "code",
   "execution_count": 527,
   "metadata": {},
   "outputs": [
    {
     "data": {
      "text/plain": [
       "array(['Singapore', 'NY', 'London'], dtype=object)"
      ]
     },
     "execution_count": 527,
     "metadata": {},
     "output_type": "execute_result"
    }
   ],
   "source": [
    "data['source'].unique()"
   ]
  },
  {
   "cell_type": "code",
   "execution_count": 528,
   "metadata": {},
   "outputs": [
    {
     "data": {
      "text/plain": [
       "array(['female', 'male', nan], dtype=object)"
      ]
     },
     "execution_count": 528,
     "metadata": {},
     "output_type": "execute_result"
    }
   ],
   "source": [
    "data['gender'].unique()"
   ]
  },
  {
   "cell_type": "code",
   "execution_count": 529,
   "metadata": {},
   "outputs": [
    {
     "data": {
      "text/plain": [
       "array([nan, 27., 19., 20., 22., 21., 34., 31., 23., 18., 36., 24., 26.,\n",
       "       29., 30., 25., 56., 46., 33., 28., 82., 35., 37., 39.])"
      ]
     },
     "execution_count": 529,
     "metadata": {},
     "output_type": "execute_result"
    }
   ],
   "source": [
    "data['realAge'].unique()"
   ]
  },
  {
   "cell_type": "code",
   "execution_count": 530,
   "metadata": {},
   "outputs": [
    {
     "data": {
      "text/plain": [
       "array([nan, 'AGE10_20', 'AGE20_30', 'AGE30_40', 'AGE40_50', 'AGE50_INF'],\n",
       "      dtype=object)"
      ]
     },
     "execution_count": 530,
     "metadata": {},
     "output_type": "execute_result"
    }
   ],
   "source": [
    "data['ageGroup'].unique()"
   ]
  },
  {
   "cell_type": "code",
   "execution_count": 531,
   "metadata": {},
   "outputs": [
    {
     "data": {
      "text/plain": [
       "array([nan, 'single', 'in a relationship', 'married'], dtype=object)"
      ]
     },
     "execution_count": 531,
     "metadata": {},
     "output_type": "execute_result"
    }
   ],
   "source": [
    "data['relationship'].unique()"
   ]
  },
  {
   "cell_type": "code",
   "execution_count": 532,
   "metadata": {},
   "outputs": [
    {
     "data": {
      "text/plain": [
       "array([nan, 'college', 'school', 'undergraduate', 'graduate'],\n",
       "      dtype=object)"
      ]
     },
     "execution_count": 532,
     "metadata": {},
     "output_type": "execute_result"
    }
   ],
   "source": [
    "data['educationLevel'].unique()"
   ]
  },
  {
   "cell_type": "code",
   "execution_count": 533,
   "metadata": {},
   "outputs": [
    {
     "data": {
      "text/plain": [
       "array([nan, 'archetecture and engineering',\n",
       "       'food preparation and service related',\n",
       "       'arts, design, entertainment, sports, and media', 'management',\n",
       "       'office and administrative support', 'personal care and service',\n",
       "       'protective service', 'healthcare support', 'sales and related',\n",
       "       'legal', 'transportation and material moving',\n",
       "       'computer and mathematical', 'production',\n",
       "       'life, physical, and social science',\n",
       "       'education, training, and library',\n",
       "       'healthcare practitioners and technical',\n",
       "       'building and grounds cleaning and maintenance',\n",
       "       'farming, fishing and forestry', 'construction and extraction',\n",
       "       'business and financial operations',\n",
       "       'community and social service'], dtype=object)"
      ]
     },
     "execution_count": 533,
     "metadata": {},
     "output_type": "execute_result"
    }
   ],
   "source": [
    "data['occupation'].unique()"
   ]
  },
  {
   "cell_type": "code",
   "execution_count": 534,
   "metadata": {},
   "outputs": [
    {
     "data": {
      "text/plain": [
       "array([nan, '$$', '$', '$$$', '$$$$'], dtype=object)"
      ]
     },
     "execution_count": 534,
     "metadata": {},
     "output_type": "execute_result"
    }
   ],
   "source": [
    "data['income'].unique()"
   ]
  },
  {
   "cell_type": "code",
   "execution_count": 535,
   "metadata": {},
   "outputs": [],
   "source": [
    "data['income'] = data['income'].fillna(\"no\").apply(lambda x: -1 if x == \"no\" else len(str(x)))"
   ]
  },
  {
   "cell_type": "code",
   "execution_count": 536,
   "metadata": {},
   "outputs": [
    {
     "data": {
      "text/plain": [
       "array([-1,  2,  1,  3,  4])"
      ]
     },
     "execution_count": 536,
     "metadata": {},
     "output_type": "execute_result"
    }
   ],
   "source": [
    "data['income'].unique()"
   ]
  },
  {
   "cell_type": "markdown",
   "metadata": {},
   "source": [
    "# Exctracting features from \"workInfoForAgeGroupEstimation\""
   ]
  },
  {
   "cell_type": "code",
   "execution_count": 537,
   "metadata": {
    "scrolled": true
   },
   "outputs": [
    {
     "data": {
      "text/plain": [
       "'PT. Duta Marga Lestarindo September 2013 to present Land Transport Authority Project Engineer � August 2011 to July 2013 T.Y. Lin International Civil Engineer � January 2010 to June 2010'"
      ]
     },
     "execution_count": 537,
     "metadata": {},
     "output_type": "execute_result"
    }
   ],
   "source": [
    "row_id = 4\n",
    "row = data['workInfoForAgeGroupEstimation'][row_id]\n",
    "# row = 'PT. Duta Marga Lestarindo September 19 present Land Transport Authority Project Engineer � August 2011 to July 2013 T.Y. Lin International Civil Engineer � January 2010 to June 2010'\n",
    "row"
   ]
  },
  {
   "cell_type": "code",
   "execution_count": 538,
   "metadata": {},
   "outputs": [],
   "source": [
    "def process_work_info(row):\n",
    "    years_raw = re.compile(r'\\b(?:19|20)\\d{2}|\\bpresent').findall(row)\n",
    "    years =  [int(year) if year != 'present' else 2018 for year in years_raw]\n",
    "    \n",
    "    start_year, number_of_places, total_length, mean_length, min_length, max_length, working_now = None, None, None, None, None, None, None\n",
    "    if row != None and len(years)<2:\n",
    "        number_of_places = 1\n",
    "    else:\n",
    "        pairs = [years[i:i+2] for i in range(0, len(years)-1, 2)]\n",
    "        lengths = [pair[1]-pair[0] for pair in pairs]\n",
    "        number_of_places = len(pairs)\n",
    "        max_length = max(lengths)\n",
    "        min_length = min(lengths)\n",
    "        total_length = sum(lengths)\n",
    "        mean_length = total_length / float(len(lengths))\n",
    "        start_year = min(years)\n",
    "        working_now = None\n",
    "        if len(years_raw)>0:\n",
    "            working_now = float('present' in years_raw) \n",
    "            \n",
    "    return start_year, number_of_places, total_length, mean_length, min_length, max_length, working_now"
   ]
  },
  {
   "cell_type": "code",
   "execution_count": 539,
   "metadata": {
    "scrolled": true
   },
   "outputs": [
    {
     "data": {
      "text/plain": [
       "(2010, 3, 7, 2.3333333333333335, 0, 5, 1.0)"
      ]
     },
     "execution_count": 539,
     "metadata": {},
     "output_type": "execute_result"
    }
   ],
   "source": [
    "process_work_info(row)"
   ]
  },
  {
   "cell_type": "code",
   "execution_count": 540,
   "metadata": {},
   "outputs": [],
   "source": [
    "data['workInfoForAgeGroupEstimation'] = data['workInfoForAgeGroupEstimation'].map(str).apply(process_work_info)\n",
    "data = data.join(pd.DataFrame(data['workInfoForAgeGroupEstimation'].tolist(), index=data.index, columns=['w_start_year', 'w_number_of_places', 'w_total_length', 'w_mean_length', 'w_min_length', 'w_max_length', 'w_working_now']))\n",
    "data.drop(columns=['workInfoForAgeGroupEstimation'], inplace=True)"
   ]
  },
  {
   "cell_type": "markdown",
   "metadata": {},
   "source": [
    "# Exctracting features from \"educationInfoForAgeGroupEstimation\""
   ]
  },
  {
   "cell_type": "code",
   "execution_count": 541,
   "metadata": {},
   "outputs": [],
   "source": [
    "# possible_levels = ['college', 'school', 'undergraduate', 'graduate']\n",
    "\n",
    "# possible_values_for_levels = {}\n",
    "# \"Secondary School\", \"Ngee\", \"Institute\", \"University\", \"High School\"\n",
    "# # CHIJ Secondary (Toa Payoh) - автономная католическая школа для девочек в Сингапуре. \n",
    "# Class of 2010"
   ]
  },
  {
   "cell_type": "code",
   "execution_count": 542,
   "metadata": {
    "scrolled": false
   },
   "outputs": [
    {
     "data": {
      "text/plain": [
       "'SMK Seri Tanjong Class of 2009 � Melaka sek. men. seri tanjung,melaka (PMR) Class of 2005 � Malacca City, Malaysia sek. men. seri tanjung,melaka (SPM) Class of 2007 Maktab Koperasi Malaysia Class of 2012 � Kuching, Malaysia Uni of Oxford Oxford, Oxfordshire skm seri tanjung Class of 2009 � Malacca City, Malaysia'"
      ]
     },
     "execution_count": 542,
     "metadata": {},
     "output_type": "execute_result"
    }
   ],
   "source": [
    "row_id = 45\n",
    "row = data['educationInfoForAgeGroupEstimation'][row_id]\n",
    "# row = \"Republic Polytechnic 2012 to 2015 � Singapore CHIJ Kellock Singapore CHIJ St. Theresa&#039;s Convent Class of 2011 � Singapore Republic Polytechnic Integrated Event Management � Singapore\"\n",
    "row"
   ]
  },
  {
   "cell_type": "code",
   "execution_count": 543,
   "metadata": {
    "scrolled": true
   },
   "outputs": [],
   "source": [
    "def process_education_info(row):\n",
    "    class_of_years = [int(i) for i in re.compile(r'(?<=of )\\d{4}').findall(row)]\n",
    "    range_years_starts = [int(i) for i in re.compile(r'\\b(?:19|20)\\d{2}(?= to )').findall(row)]\n",
    "    range_years_ends = [int(i) if i != 'present' else 2018 for i in re.compile(r'(?<= to )(?:19|20)\\d{2}|\\bpresent').findall(row)]\n",
    "\n",
    "    first_start_year = None\n",
    "    last_start_year = None\n",
    "    if len(class_of_years)>0 or len(range_years_starts)>0:\n",
    "        first_start_year = min(class_of_years+range_years_starts)\n",
    "        last_start_year = max(class_of_years+range_years_starts) \n",
    "\n",
    "    \n",
    "    finish_year = None\n",
    "    if len(range_years_ends)>0:\n",
    "        finish_year = max(range_years_ends)\n",
    "    # else\n",
    "    #     if len(class_of_years)>0 | len(range_years_starts)>0:\n",
    "    #     finish_year = max(class_of_years) + 4 #usually one program = 4year\n",
    "\n",
    "    # study_now = None\n",
    "\n",
    "    number_of_programs = None\n",
    "    num = len(class_of_years)+len(range_years_starts)\n",
    "    if num<1 and len(row)>0:\n",
    "        number_of_programs = 1\n",
    "    else:\n",
    "        number_of_programs = num\n",
    "\n",
    "    return first_start_year, last_start_year, finish_year, number_of_programs"
   ]
  },
  {
   "cell_type": "code",
   "execution_count": 544,
   "metadata": {
    "scrolled": true
   },
   "outputs": [
    {
     "data": {
      "text/plain": [
       "(2005, 2012, None, 5)"
      ]
     },
     "execution_count": 544,
     "metadata": {},
     "output_type": "execute_result"
    }
   ],
   "source": [
    "process_education_info(row)"
   ]
  },
  {
   "cell_type": "code",
   "execution_count": 545,
   "metadata": {},
   "outputs": [],
   "source": [
    "data['educationInfoForAgeGroupEstimation'] = data['educationInfoForAgeGroupEstimation'].map(str).apply(process_education_info)\n",
    "data = data.join(pd.DataFrame(data['educationInfoForAgeGroupEstimation'].tolist(), index=data.index, columns=['e_first_start_year', 'e_last_start_year', 'e_finish_year', 'e_number_of_programs']))\n",
    "data.drop(columns=['educationInfoForAgeGroupEstimation'], inplace=True)"
   ]
  },
  {
   "cell_type": "markdown",
   "metadata": {},
   "source": [
    "# Some preprocessing"
   ]
  },
  {
   "cell_type": "code",
   "execution_count": 546,
   "metadata": {},
   "outputs": [],
   "source": [
    "columns_to_hot = ['gender', 'relationship', 'educationLevel', 'occupation', 'source']\n",
    "data = pd.get_dummies(data, columns=columns_to_hot)\n",
    "data_with_labels = data[data['ageGroup'].notnull()].drop(columns=['row ID']).fillna(-1.0)\n",
    "\n",
    "from sklearn.preprocessing import LabelEncoder\n",
    "LE = LabelEncoder()\n",
    "data_with_labels['ageGroup'] = LE.fit_transform(data_with_labels['ageGroup'])"
   ]
  },
  {
   "cell_type": "code",
   "execution_count": 547,
   "metadata": {
    "scrolled": true
   },
   "outputs": [
    {
     "data": {
      "text/html": [
       "<div>\n",
       "<style scoped>\n",
       "    .dataframe tbody tr th:only-of-type {\n",
       "        vertical-align: middle;\n",
       "    }\n",
       "\n",
       "    .dataframe tbody tr th {\n",
       "        vertical-align: top;\n",
       "    }\n",
       "\n",
       "    .dataframe thead th {\n",
       "        text-align: right;\n",
       "    }\n",
       "</style>\n",
       "<table border=\"1\" class=\"dataframe\">\n",
       "  <thead>\n",
       "    <tr style=\"text-align: right;\">\n",
       "      <th></th>\n",
       "      <th>realAge</th>\n",
       "      <th>ageGroup</th>\n",
       "      <th>income</th>\n",
       "      <th>w_start_year</th>\n",
       "      <th>w_number_of_places</th>\n",
       "      <th>w_total_length</th>\n",
       "      <th>w_mean_length</th>\n",
       "      <th>w_min_length</th>\n",
       "      <th>w_max_length</th>\n",
       "      <th>w_working_now</th>\n",
       "      <th>...</th>\n",
       "      <th>occupation_management</th>\n",
       "      <th>occupation_office and administrative support</th>\n",
       "      <th>occupation_personal care and service</th>\n",
       "      <th>occupation_production</th>\n",
       "      <th>occupation_protective service</th>\n",
       "      <th>occupation_sales and related</th>\n",
       "      <th>occupation_transportation and material moving</th>\n",
       "      <th>source_London</th>\n",
       "      <th>source_NY</th>\n",
       "      <th>source_Singapore</th>\n",
       "    </tr>\n",
       "  </thead>\n",
       "  <tbody>\n",
       "    <tr>\n",
       "      <th>2</th>\n",
       "      <td>-1.0</td>\n",
       "      <td>0</td>\n",
       "      <td>-1</td>\n",
       "      <td>-1.0</td>\n",
       "      <td>1</td>\n",
       "      <td>-1.0</td>\n",
       "      <td>-1.0</td>\n",
       "      <td>-1.0</td>\n",
       "      <td>-1.0</td>\n",
       "      <td>-1.0</td>\n",
       "      <td>...</td>\n",
       "      <td>0</td>\n",
       "      <td>0</td>\n",
       "      <td>0</td>\n",
       "      <td>0</td>\n",
       "      <td>0</td>\n",
       "      <td>0</td>\n",
       "      <td>0</td>\n",
       "      <td>0</td>\n",
       "      <td>0</td>\n",
       "      <td>1</td>\n",
       "    </tr>\n",
       "    <tr>\n",
       "      <th>5</th>\n",
       "      <td>27.0</td>\n",
       "      <td>1</td>\n",
       "      <td>-1</td>\n",
       "      <td>-1.0</td>\n",
       "      <td>1</td>\n",
       "      <td>-1.0</td>\n",
       "      <td>-1.0</td>\n",
       "      <td>-1.0</td>\n",
       "      <td>-1.0</td>\n",
       "      <td>-1.0</td>\n",
       "      <td>...</td>\n",
       "      <td>0</td>\n",
       "      <td>0</td>\n",
       "      <td>0</td>\n",
       "      <td>0</td>\n",
       "      <td>0</td>\n",
       "      <td>0</td>\n",
       "      <td>0</td>\n",
       "      <td>0</td>\n",
       "      <td>0</td>\n",
       "      <td>1</td>\n",
       "    </tr>\n",
       "    <tr>\n",
       "      <th>11</th>\n",
       "      <td>-1.0</td>\n",
       "      <td>0</td>\n",
       "      <td>-1</td>\n",
       "      <td>-1.0</td>\n",
       "      <td>1</td>\n",
       "      <td>-1.0</td>\n",
       "      <td>-1.0</td>\n",
       "      <td>-1.0</td>\n",
       "      <td>-1.0</td>\n",
       "      <td>-1.0</td>\n",
       "      <td>...</td>\n",
       "      <td>0</td>\n",
       "      <td>0</td>\n",
       "      <td>0</td>\n",
       "      <td>0</td>\n",
       "      <td>0</td>\n",
       "      <td>0</td>\n",
       "      <td>0</td>\n",
       "      <td>0</td>\n",
       "      <td>0</td>\n",
       "      <td>1</td>\n",
       "    </tr>\n",
       "    <tr>\n",
       "      <th>16</th>\n",
       "      <td>19.0</td>\n",
       "      <td>1</td>\n",
       "      <td>-1</td>\n",
       "      <td>-1.0</td>\n",
       "      <td>1</td>\n",
       "      <td>-1.0</td>\n",
       "      <td>-1.0</td>\n",
       "      <td>-1.0</td>\n",
       "      <td>-1.0</td>\n",
       "      <td>-1.0</td>\n",
       "      <td>...</td>\n",
       "      <td>0</td>\n",
       "      <td>0</td>\n",
       "      <td>0</td>\n",
       "      <td>0</td>\n",
       "      <td>0</td>\n",
       "      <td>0</td>\n",
       "      <td>0</td>\n",
       "      <td>0</td>\n",
       "      <td>0</td>\n",
       "      <td>1</td>\n",
       "    </tr>\n",
       "    <tr>\n",
       "      <th>17</th>\n",
       "      <td>-1.0</td>\n",
       "      <td>1</td>\n",
       "      <td>-1</td>\n",
       "      <td>-1.0</td>\n",
       "      <td>1</td>\n",
       "      <td>-1.0</td>\n",
       "      <td>-1.0</td>\n",
       "      <td>-1.0</td>\n",
       "      <td>-1.0</td>\n",
       "      <td>-1.0</td>\n",
       "      <td>...</td>\n",
       "      <td>0</td>\n",
       "      <td>0</td>\n",
       "      <td>0</td>\n",
       "      <td>0</td>\n",
       "      <td>0</td>\n",
       "      <td>0</td>\n",
       "      <td>0</td>\n",
       "      <td>0</td>\n",
       "      <td>0</td>\n",
       "      <td>1</td>\n",
       "    </tr>\n",
       "  </tbody>\n",
       "</table>\n",
       "<p>5 rows × 47 columns</p>\n",
       "</div>"
      ],
      "text/plain": [
       "    realAge  ageGroup  income  w_start_year  w_number_of_places  \\\n",
       "2      -1.0         0      -1          -1.0                   1   \n",
       "5      27.0         1      -1          -1.0                   1   \n",
       "11     -1.0         0      -1          -1.0                   1   \n",
       "16     19.0         1      -1          -1.0                   1   \n",
       "17     -1.0         1      -1          -1.0                   1   \n",
       "\n",
       "    w_total_length  w_mean_length  w_min_length  w_max_length  w_working_now  \\\n",
       "2             -1.0           -1.0          -1.0          -1.0           -1.0   \n",
       "5             -1.0           -1.0          -1.0          -1.0           -1.0   \n",
       "11            -1.0           -1.0          -1.0          -1.0           -1.0   \n",
       "16            -1.0           -1.0          -1.0          -1.0           -1.0   \n",
       "17            -1.0           -1.0          -1.0          -1.0           -1.0   \n",
       "\n",
       "          ...         occupation_management  \\\n",
       "2         ...                             0   \n",
       "5         ...                             0   \n",
       "11        ...                             0   \n",
       "16        ...                             0   \n",
       "17        ...                             0   \n",
       "\n",
       "    occupation_office and administrative support  \\\n",
       "2                                              0   \n",
       "5                                              0   \n",
       "11                                             0   \n",
       "16                                             0   \n",
       "17                                             0   \n",
       "\n",
       "    occupation_personal care and service  occupation_production  \\\n",
       "2                                      0                      0   \n",
       "5                                      0                      0   \n",
       "11                                     0                      0   \n",
       "16                                     0                      0   \n",
       "17                                     0                      0   \n",
       "\n",
       "    occupation_protective service  occupation_sales and related  \\\n",
       "2                               0                             0   \n",
       "5                               0                             0   \n",
       "11                              0                             0   \n",
       "16                              0                             0   \n",
       "17                              0                             0   \n",
       "\n",
       "    occupation_transportation and material moving  source_London  source_NY  \\\n",
       "2                                               0              0          0   \n",
       "5                                               0              0          0   \n",
       "11                                              0              0          0   \n",
       "16                                              0              0          0   \n",
       "17                                              0              0          0   \n",
       "\n",
       "    source_Singapore  \n",
       "2                  1  \n",
       "5                  1  \n",
       "11                 1  \n",
       "16                 1  \n",
       "17                 1  \n",
       "\n",
       "[5 rows x 47 columns]"
      ]
     },
     "execution_count": 547,
     "metadata": {},
     "output_type": "execute_result"
    }
   ],
   "source": [
    "data_with_labels.head()"
   ]
  },
  {
   "cell_type": "markdown",
   "metadata": {},
   "source": [
    "# MODELS\n",
    "Train-test split"
   ]
  },
  {
   "cell_type": "code",
   "execution_count": 548,
   "metadata": {},
   "outputs": [],
   "source": [
    "from sklearn.model_selection import train_test_split\n",
    "X_train, X_test, y_train, y_test = train_test_split(data_with_labels.drop(columns=['ageGroup']), data_with_labels.ageGroup, test_size=0.3, random_state=42)"
   ]
  },
  {
   "cell_type": "markdown",
   "metadata": {},
   "source": [
    "## Classifiers"
   ]
  },
  {
   "cell_type": "code",
   "execution_count": 549,
   "metadata": {},
   "outputs": [],
   "source": [
    "from sklearn.ensemble import RandomForestClassifier\n",
    "from xgboost import XGBClassifier\n",
    "from sklearn.metrics import f1_score, accuracy_score\n",
    "\n",
    "rf_cls = RandomForestClassifier(n_estimators=100)\n",
    "xgb_cls = XGBClassifier()"
   ]
  },
  {
   "cell_type": "markdown",
   "metadata": {},
   "source": [
    "## Learning and scores\n",
    "RandomForestClassifier"
   ]
  },
  {
   "cell_type": "code",
   "execution_count": 550,
   "metadata": {
    "scrolled": false
   },
   "outputs": [
    {
     "name": "stdout",
     "output_type": "stream",
     "text": [
      "F1 score on train: 0.9838628968137404\n",
      "F1 score on test: 0.7729322199851372\n",
      "Accuracy on train: 0.9838492597577388\n",
      "Accuracy on test: 0.7836990595611285\n",
      "CPU times: user 255 ms, sys: 0 ns, total: 255 ms\n",
      "Wall time: 256 ms\n"
     ]
    },
    {
     "name": "stderr",
     "output_type": "stream",
     "text": [
      "/home/saitkulov/anaconda3/lib/python3.6/site-packages/sklearn/metrics/classification.py:1135: UndefinedMetricWarning: F-score is ill-defined and being set to 0.0 in labels with no predicted samples.\n",
      "  'precision', 'predicted', average, warn_for)\n"
     ]
    }
   ],
   "source": [
    "%%time\n",
    "rf_cls.fit(X_train, y_train)\n",
    "y_pred_on_train = rf_cls.predict(X_train)\n",
    "y_pred_on_test = rf_cls.predict(X_test)\n",
    "\n",
    "print(\"F1 score on train:\", f1_score(y_train, y_pred_on_train, average='weighted'))\n",
    "print(\"F1 score on test:\", f1_score(y_test, y_pred_on_test, average='weighted'))\n",
    "print(\"Accuracy on train:\", accuracy_score(y_train, y_pred_on_train))\n",
    "print(\"Accuracy on test:\", accuracy_score(y_test, y_pred_on_test))"
   ]
  },
  {
   "cell_type": "markdown",
   "metadata": {},
   "source": [
    "XGBClassifier"
   ]
  },
  {
   "cell_type": "code",
   "execution_count": 551,
   "metadata": {},
   "outputs": [
    {
     "name": "stdout",
     "output_type": "stream",
     "text": [
      "F1 score on train: 0.905917985924844\n",
      "F1 score on test: 0.786013506631259\n",
      "Accuracy on train: 0.9057873485868102\n",
      "Accuracy on test: 0.7931034482758621\n",
      "CPU times: user 612 ms, sys: 2.75 ms, total: 615 ms\n",
      "Wall time: 639 ms\n"
     ]
    },
    {
     "name": "stderr",
     "output_type": "stream",
     "text": [
      "/home/saitkulov/anaconda3/lib/python3.6/site-packages/sklearn/preprocessing/label.py:151: DeprecationWarning: The truth value of an empty array is ambiguous. Returning False, but in future this will result in an error. Use `array.size > 0` to check that an array is not empty.\n",
      "  if diff:\n",
      "/home/saitkulov/anaconda3/lib/python3.6/site-packages/sklearn/preprocessing/label.py:151: DeprecationWarning: The truth value of an empty array is ambiguous. Returning False, but in future this will result in an error. Use `array.size > 0` to check that an array is not empty.\n",
      "  if diff:\n",
      "/home/saitkulov/anaconda3/lib/python3.6/site-packages/sklearn/metrics/classification.py:1135: UndefinedMetricWarning: F-score is ill-defined and being set to 0.0 in labels with no predicted samples.\n",
      "  'precision', 'predicted', average, warn_for)\n"
     ]
    }
   ],
   "source": [
    "%%time\n",
    "xgb_cls.fit(X_train, y_train)\n",
    "y_pred_on_train = xgb_cls.predict(X_train)\n",
    "y_pred_on_test = xgb_cls.predict(X_test)\n",
    "\n",
    "print(\"F1 score on train:\", f1_score(y_train, y_pred_on_train, average='weighted'))\n",
    "print(\"F1 score on test:\", f1_score(y_test, y_pred_on_test, average='weighted'))\n",
    "print(\"Accuracy on train:\", accuracy_score(y_train, y_pred_on_train))\n",
    "print(\"Accuracy on test:\", accuracy_score(y_test, y_pred_on_test))"
   ]
  },
  {
   "cell_type": "markdown",
   "metadata": {},
   "source": [
    "## Confusion Matrix"
   ]
  },
  {
   "cell_type": "code",
   "execution_count": 552,
   "metadata": {
    "scrolled": true
   },
   "outputs": [
    {
     "name": "stdout",
     "output_type": "stream",
     "text": [
      "Predicted  AGE10_20  AGE20_30  AGE30_40\n",
      "Actual                                 \n",
      "AGE10_20         86        31         0\n",
      "AGE20_30         24       148         1\n",
      "AGE30_40          0         5        16\n",
      "AGE40_50          0         1         5\n",
      "AGE50_INF         0         1         1\n"
     ]
    }
   ],
   "source": [
    "y_pred = rf_cls.predict(X_test)\n",
    "reversefactor = dict(zip(range(5),LE.classes_))\n",
    "y_test = np.vectorize(reversefactor.get)(y_test)\n",
    "y_pred = np.vectorize(reversefactor.get)(y_pred)\n",
    "# Making the Confusion Matrix\n",
    "print(pd.crosstab(y_test, y_pred, rownames=['Actual'], colnames=['Predicted']))"
   ]
  },
  {
   "cell_type": "code",
   "execution_count": 553,
   "metadata": {},
   "outputs": [
    {
     "name": "stdout",
     "output_type": "stream",
     "text": [
      "Predicted  AGE10_20  AGE20_30  AGE30_40  AGE50_INF\n",
      "Actual                                            \n",
      "AGE10_20         94        23         0          0\n",
      "AGE20_30         29       141         3          0\n",
      "AGE30_40          0         4        17          0\n",
      "AGE40_50          0         2         4          0\n",
      "AGE50_INF         0         0         1          1\n"
     ]
    },
    {
     "name": "stderr",
     "output_type": "stream",
     "text": [
      "/home/saitkulov/anaconda3/lib/python3.6/site-packages/sklearn/preprocessing/label.py:151: DeprecationWarning: The truth value of an empty array is ambiguous. Returning False, but in future this will result in an error. Use `array.size > 0` to check that an array is not empty.\n",
      "  if diff:\n"
     ]
    }
   ],
   "source": [
    "y_pred = xgb_cls.predict(X_test)\n",
    "reversefactor = dict(zip(range(5), LE.classes_))\n",
    "# y_test = np.vectorize(reversefactor.get)(y_test)\n",
    "y_pred = np.vectorize(reversefactor.get)(y_pred)\n",
    "# Making the Confusion Matrix\n",
    "print(pd.crosstab(y_test, y_pred, rownames=['Actual'], colnames=['Predicted']))"
   ]
  },
  {
   "cell_type": "markdown",
   "metadata": {},
   "source": [
    "## Features importances"
   ]
  },
  {
   "cell_type": "code",
   "execution_count": 554,
   "metadata": {
    "scrolled": true
   },
   "outputs": [
    {
     "data": {
      "text/plain": [
       "[('e_last_start_year', 0.18960774756123866),\n",
       " ('e_first_start_year', 0.14330488085354062),\n",
       " ('realAge', 0.10129244730638326),\n",
       " ('e_number_of_programs', 0.05252184144417283),\n",
       " ('educationLevel_school', 0.05181927046449902),\n",
       " ('educationLevel_undergraduate', 0.04671285470437419),\n",
       " ('educationLevel_college', 0.03904064444118559),\n",
       " ('w_total_length', 0.035550013873838514),\n",
       " ('w_start_year', 0.035123524776755934),\n",
       " ('w_mean_length', 0.03015800334808914),\n",
       " ('e_finish_year', 0.029320987967452767),\n",
       " ('w_max_length', 0.027529850878679714),\n",
       " ('w_min_length', 0.027252999580911763),\n",
       " ('relationship_single', 0.02237254691843906),\n",
       " ('gender_male', 0.01880580257581921),\n",
       " ('w_number_of_places', 0.017554512641087726),\n",
       " ('gender_female', 0.01692018996426364),\n",
       " ('income', 0.012765081846118713),\n",
       " ('relationship_married', 0.011564627156773673),\n",
       " ('occupation_management', 0.010985810266447267)]"
      ]
     },
     "execution_count": 554,
     "metadata": {},
     "output_type": "execute_result"
    }
   ],
   "source": [
    "sorted_importance = sorted(list(zip(X_train.columns, rf_cls.feature_importances_)), key=lambda tup: tup[1], reverse=True)\n",
    "sorted_importance[:20]"
   ]
  },
  {
   "cell_type": "code",
   "execution_count": 555,
   "metadata": {},
   "outputs": [
    {
     "data": {
      "text/plain": [
       "[('e_last_start_year', 0.25258893),\n",
       " ('e_first_start_year', 0.15848717),\n",
       " ('realAge', 0.14047727),\n",
       " ('educationLevel_undergraduate', 0.05357947),\n",
       " ('w_mean_length', 0.052678972),\n",
       " ('w_total_length', 0.041422784),\n",
       " ('educationLevel_school', 0.040972535),\n",
       " ('w_start_year', 0.036920305),\n",
       " ('e_number_of_programs', 0.035119317),\n",
       " ('e_finish_year', 0.027014859),\n",
       " ('educationLevel_college', 0.022062134),\n",
       " ('w_min_length', 0.01710941),\n",
       " ('w_number_of_places', 0.016208915),\n",
       " ('w_max_length', 0.013057182),\n",
       " ('gender_female', 0.012606934),\n",
       " ('income', 0.012156686),\n",
       " ('occupation_education, training, and library', 0.012156686),\n",
       " ('occupation_legal', 0.010355696),\n",
       " ('relationship_single', 0.0081044575),\n",
       " ('occupation_management', 0.0081044575)]"
      ]
     },
     "execution_count": 555,
     "metadata": {},
     "output_type": "execute_result"
    }
   ],
   "source": [
    "sorted_importance = sorted(list(zip(X_train.columns, xgb_cls.feature_importances_)), key=lambda tup: tup[1], reverse=True)\n",
    "sorted_importance[:20]"
   ]
  },
  {
   "cell_type": "markdown",
   "metadata": {},
   "source": [
    "# Preprocess test csv data"
   ]
  },
  {
   "cell_type": "code",
   "execution_count": 556,
   "metadata": {},
   "outputs": [],
   "source": [
    "def process_test_csv(path):\n",
    "    test_data_Singapore = pd.read_csv(path+\"SingaporeTest.csv\")\n",
    "    test_data_NY = pd.read_csv(path+\"NYTest.csv\")\n",
    "    test_data_London = pd.read_csv(path+\"LondonTest.csv\")\n",
    "\n",
    "    test_data_Singapore['source'] = 'Singapore'\n",
    "    test_data_NY['source'] = 'NY'\n",
    "    test_data_London['source'] = 'London'\n",
    "    test_data = pd.concat([test_data_Singapore, test_data_NY, test_data_London],ignore_index=True)\n",
    "\n",
    "    test_data['income'] = test_data['income'].fillna(\"no\").apply(lambda x: -1 if x == \"no\" else len(str(x)))\n",
    "\n",
    "    test_data['workInfoForAgeGroupEstimation'] = test_data['workInfoForAgeGroupEstimation'].map(str).apply(process_work_info)\n",
    "    test_data = test_data.join(pd.DataFrame(test_data['workInfoForAgeGroupEstimation'].tolist(), index=test_data.index, columns=['w_start_year', 'w_number_of_places', 'w_total_length', 'w_mean_length', 'w_min_length', 'w_max_length', 'w_working_now']))\n",
    "    test_data.drop(columns=['workInfoForAgeGroupEstimation'], inplace=True)\n",
    "\n",
    "    test_data['educationInfoForAgeGroupEstimation'] = test_data['educationInfoForAgeGroupEstimation'].map(str).apply(process_education_info)\n",
    "    test_data = test_data.join(pd.DataFrame(test_data['educationInfoForAgeGroupEstimation'].tolist(), index=test_data.index, columns=['e_first_start_year', 'e_last_start_year', 'e_finish_year', 'e_number_of_programs']))\n",
    "    test_data.drop(columns=['educationInfoForAgeGroupEstimation'], inplace=True)\n",
    "\n",
    "    columns_to_hot = ['gender', 'relationship', 'educationLevel', 'occupation', 'source']\n",
    "    test_data = pd.get_dummies(test_data, columns=columns_to_hot)\n",
    "    test_data_with_labels = test_data[test_data['ageGroup'].notnull()].drop(columns=['row ID']).fillna(-1.0)\n",
    "    for i in set(data_with_labels.columns)-set(test_data_with_labels.columns):\n",
    "        test_data_with_labels.insert(len(test_data_with_labels.columns), i, 0)\n",
    "    \n",
    "    test_data_with_labels['ageGroup'] = LE.transform(test_data_with_labels['ageGroup'])\n",
    "    return test_data_with_labels"
   ]
  },
  {
   "cell_type": "markdown",
   "metadata": {},
   "source": [
    "# Reading and processing new csv"
   ]
  },
  {
   "cell_type": "code",
   "execution_count": 557,
   "metadata": {},
   "outputs": [],
   "source": [
    "path = \"path to the folder with test data \"\n",
    "test_data_with_labels = process_test_csv(path)\n",
    "test_data_with_labels = test_data_with_labels[data_with_labels.columns]\n",
    "X, y = test_data_with_labels.drop(columns=['ageGroup']), test_data_with_labels.ageGroup"
   ]
  },
  {
   "cell_type": "markdown",
   "metadata": {},
   "source": [
    "## Predicting and scores\n",
    "### RandomForestClassifier"
   ]
  },
  {
   "cell_type": "code",
   "execution_count": 562,
   "metadata": {
    "scrolled": true
   },
   "outputs": [],
   "source": [
    "%%time\n",
    "y_pred_on_test_file = rf_cls.predict(X)\n",
    "\n",
    "print(\"F1 score on test.csv:\", f1_score(y, y_pred_on_test_file, average='weighted'))\n",
    "print(\"Accuracy on test.csv:\", accuracy_score(y, y_pred_on_test_file))"
   ]
  },
  {
   "cell_type": "code",
   "execution_count": 563,
   "metadata": {},
   "outputs": [],
   "source": [
    "reversefactor = dict(zip(range(5),LE.classes_))\n",
    "y_test = np.vectorize(reversefactor.get)(y)\n",
    "y_pred_on_test_file = np.vectorize(reversefactor.get)(y_pred_on_test_file)\n",
    "# Making the Confusion Matrix\n",
    "print(pd.crosstab(y_test, y_pred_on_test_file, rownames=['Actual'], colnames=['Predicted']))"
   ]
  },
  {
   "cell_type": "markdown",
   "metadata": {},
   "source": [
    "### XGBClassifier"
   ]
  },
  {
   "cell_type": "code",
   "execution_count": 566,
   "metadata": {
    "scrolled": true
   },
   "outputs": [],
   "source": [
    "%%time\n",
    "y_pred_on_test_file = xgb_cls.predict(X)\n",
    "\n",
    "print(\"F1 score on test.csv:\", f1_score(y, y_pred_on_test_file, average='weighted'))\n",
    "print(\"Accuracy on test.csv:\", accuracy_score(y, y_pred_on_test_file))"
   ]
  },
  {
   "cell_type": "code",
   "execution_count": 567,
   "metadata": {
    "scrolled": true
   },
   "outputs": [],
   "source": [
    "reversefactor = dict(zip(range(5),LE.classes_))\n",
    "y_test = np.vectorize(reversefactor.get)(y)\n",
    "y_pred_on_test_file = np.vectorize(reversefactor.get)(y_pred_on_test_file)\n",
    "# Making the Confusion Matrix\n",
    "print(pd.crosstab(y_test, y_pred_on_test_file, rownames=['Actual'], colnames=['Predicted']))"
   ]
  },
  {
   "cell_type": "code",
   "execution_count": null,
   "metadata": {},
   "outputs": [],
   "source": []
  },
  {
   "cell_type": "code",
   "execution_count": null,
   "metadata": {},
   "outputs": [],
   "source": []
  },
  {
   "cell_type": "code",
   "execution_count": null,
   "metadata": {},
   "outputs": [],
   "source": []
  },
  {
   "cell_type": "code",
   "execution_count": null,
   "metadata": {},
   "outputs": [],
   "source": []
  },
  {
   "cell_type": "code",
   "execution_count": null,
   "metadata": {},
   "outputs": [],
   "source": []
  },
  {
   "cell_type": "code",
   "execution_count": null,
   "metadata": {},
   "outputs": [],
   "source": []
  },
  {
   "cell_type": "code",
   "execution_count": null,
   "metadata": {},
   "outputs": [],
   "source": []
  },
  {
   "cell_type": "code",
   "execution_count": null,
   "metadata": {},
   "outputs": [],
   "source": []
  },
  {
   "cell_type": "code",
   "execution_count": null,
   "metadata": {},
   "outputs": [],
   "source": []
  },
  {
   "cell_type": "code",
   "execution_count": null,
   "metadata": {},
   "outputs": [],
   "source": []
  },
  {
   "cell_type": "code",
   "execution_count": null,
   "metadata": {},
   "outputs": [],
   "source": []
  },
  {
   "cell_type": "code",
   "execution_count": null,
   "metadata": {},
   "outputs": [],
   "source": []
  },
  {
   "cell_type": "code",
   "execution_count": null,
   "metadata": {},
   "outputs": [],
   "source": []
  },
  {
   "cell_type": "code",
   "execution_count": null,
   "metadata": {},
   "outputs": [],
   "source": []
  },
  {
   "cell_type": "code",
   "execution_count": null,
   "metadata": {},
   "outputs": [],
   "source": []
  },
  {
   "cell_type": "code",
   "execution_count": null,
   "metadata": {},
   "outputs": [],
   "source": []
  },
  {
   "cell_type": "code",
   "execution_count": null,
   "metadata": {},
   "outputs": [],
   "source": []
  },
  {
   "cell_type": "code",
   "execution_count": null,
   "metadata": {},
   "outputs": [],
   "source": []
  },
  {
   "cell_type": "code",
   "execution_count": null,
   "metadata": {},
   "outputs": [],
   "source": []
  },
  {
   "cell_type": "code",
   "execution_count": null,
   "metadata": {},
   "outputs": [],
   "source": []
  },
  {
   "cell_type": "code",
   "execution_count": null,
   "metadata": {},
   "outputs": [],
   "source": []
  },
  {
   "cell_type": "code",
   "execution_count": null,
   "metadata": {},
   "outputs": [],
   "source": []
  },
  {
   "cell_type": "code",
   "execution_count": null,
   "metadata": {},
   "outputs": [],
   "source": []
  },
  {
   "cell_type": "code",
   "execution_count": null,
   "metadata": {},
   "outputs": [],
   "source": []
  },
  {
   "cell_type": "code",
   "execution_count": null,
   "metadata": {},
   "outputs": [],
   "source": []
  },
  {
   "cell_type": "code",
   "execution_count": null,
   "metadata": {},
   "outputs": [],
   "source": []
  }
 ],
 "metadata": {
  "kernelspec": {
   "display_name": "Python 3",
   "language": "python",
   "name": "python3"
  },
  "language_info": {
   "codemirror_mode": {
    "name": "ipython",
    "version": 3
   },
   "file_extension": ".py",
   "mimetype": "text/x-python",
   "name": "python",
   "nbconvert_exporter": "python",
   "pygments_lexer": "ipython3",
   "version": "3.6.5"
  }
 },
 "nbformat": 4,
 "nbformat_minor": 2
}
