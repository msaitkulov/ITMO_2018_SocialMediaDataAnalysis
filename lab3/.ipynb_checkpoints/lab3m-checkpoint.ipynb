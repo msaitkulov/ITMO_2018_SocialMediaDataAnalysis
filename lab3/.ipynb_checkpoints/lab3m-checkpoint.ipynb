{
 "cells": [
  {
   "cell_type": "code",
   "execution_count": 159,
   "metadata": {},
   "outputs": [],
   "source": [
    "import pandas as pd\n",
    "import numpy as np\n",
    "import re"
   ]
  },
  {
   "cell_type": "markdown",
   "metadata": {},
   "source": [
    "# Reading data from csv"
   ]
  },
  {
   "cell_type": "code",
   "execution_count": 160,
   "metadata": {},
   "outputs": [
    {
     "data": {
      "text/html": [
       "<div>\n",
       "<style scoped>\n",
       "    .dataframe tbody tr th:only-of-type {\n",
       "        vertical-align: middle;\n",
       "    }\n",
       "\n",
       "    .dataframe tbody tr th {\n",
       "        vertical-align: top;\n",
       "    }\n",
       "\n",
       "    .dataframe thead th {\n",
       "        text-align: right;\n",
       "    }\n",
       "</style>\n",
       "<table border=\"1\" class=\"dataframe\">\n",
       "  <thead>\n",
       "    <tr style=\"text-align: right;\">\n",
       "      <th></th>\n",
       "      <th>row ID</th>\n",
       "      <th>educationInfoForAgeGroupEstimation</th>\n",
       "      <th>workInfoForAgeGroupEstimation</th>\n",
       "      <th>gender</th>\n",
       "      <th>realAge</th>\n",
       "      <th>ageGroup</th>\n",
       "      <th>relationship</th>\n",
       "      <th>educationLevel</th>\n",
       "      <th>occupation</th>\n",
       "      <th>income</th>\n",
       "    </tr>\n",
       "  </thead>\n",
       "  <tbody>\n",
       "    <tr>\n",
       "      <th>0</th>\n",
       "      <td>d0cc2d6caf6eb55ccf606770f24df2b5</td>\n",
       "      <td>NaN</td>\n",
       "      <td>NaN</td>\n",
       "      <td>female</td>\n",
       "      <td>NaN</td>\n",
       "      <td>NaN</td>\n",
       "      <td>NaN</td>\n",
       "      <td>NaN</td>\n",
       "      <td>NaN</td>\n",
       "      <td>NaN</td>\n",
       "    </tr>\n",
       "    <tr>\n",
       "      <th>1</th>\n",
       "      <td>eb4e2aa0bf687227821b17cfcd5365e3</td>\n",
       "      <td>Bukit Batok Secondary School ITE College West ...</td>\n",
       "      <td>NaN</td>\n",
       "      <td>female</td>\n",
       "      <td>NaN</td>\n",
       "      <td>NaN</td>\n",
       "      <td>NaN</td>\n",
       "      <td>college</td>\n",
       "      <td>NaN</td>\n",
       "      <td>NaN</td>\n",
       "    </tr>\n",
       "    <tr>\n",
       "      <th>2</th>\n",
       "      <td>acfb8e93139fe820996b27ee3c6bc9db</td>\n",
       "      <td>St Patrick&amp;#039;s School, Singapore Class of 2...</td>\n",
       "      <td>NaN</td>\n",
       "      <td>male</td>\n",
       "      <td>NaN</td>\n",
       "      <td>AGE10_20</td>\n",
       "      <td>single</td>\n",
       "      <td>college</td>\n",
       "      <td>NaN</td>\n",
       "      <td>NaN</td>\n",
       "    </tr>\n",
       "    <tr>\n",
       "      <th>3</th>\n",
       "      <td>ea251951bd3c7667daf214e8efa92f4e</td>\n",
       "      <td>NaN</td>\n",
       "      <td>NaN</td>\n",
       "      <td>female</td>\n",
       "      <td>NaN</td>\n",
       "      <td>NaN</td>\n",
       "      <td>NaN</td>\n",
       "      <td>NaN</td>\n",
       "      <td>NaN</td>\n",
       "      <td>$$</td>\n",
       "    </tr>\n",
       "    <tr>\n",
       "      <th>4</th>\n",
       "      <td>f8f7b497ad8167535345bfc3d59d6aaa</td>\n",
       "      <td>NaN</td>\n",
       "      <td>PT. Duta Marga Lestarindo September 2013 to pr...</td>\n",
       "      <td>female</td>\n",
       "      <td>NaN</td>\n",
       "      <td>NaN</td>\n",
       "      <td>NaN</td>\n",
       "      <td>NaN</td>\n",
       "      <td>archetecture and engineering</td>\n",
       "      <td>NaN</td>\n",
       "    </tr>\n",
       "  </tbody>\n",
       "</table>\n",
       "</div>"
      ],
      "text/plain": [
       "                             row ID  \\\n",
       "0  d0cc2d6caf6eb55ccf606770f24df2b5   \n",
       "1  eb4e2aa0bf687227821b17cfcd5365e3   \n",
       "2  acfb8e93139fe820996b27ee3c6bc9db   \n",
       "3  ea251951bd3c7667daf214e8efa92f4e   \n",
       "4  f8f7b497ad8167535345bfc3d59d6aaa   \n",
       "\n",
       "                  educationInfoForAgeGroupEstimation  \\\n",
       "0                                                NaN   \n",
       "1  Bukit Batok Secondary School ITE College West ...   \n",
       "2  St Patrick&#039;s School, Singapore Class of 2...   \n",
       "3                                                NaN   \n",
       "4                                                NaN   \n",
       "\n",
       "                       workInfoForAgeGroupEstimation  gender  realAge  \\\n",
       "0                                                NaN  female      NaN   \n",
       "1                                                NaN  female      NaN   \n",
       "2                                                NaN    male      NaN   \n",
       "3                                                NaN  female      NaN   \n",
       "4  PT. Duta Marga Lestarindo September 2013 to pr...  female      NaN   \n",
       "\n",
       "   ageGroup relationship educationLevel                    occupation income  \n",
       "0       NaN          NaN            NaN                           NaN    NaN  \n",
       "1       NaN          NaN        college                           NaN    NaN  \n",
       "2  AGE10_20       single        college                           NaN    NaN  \n",
       "3       NaN          NaN            NaN                           NaN     $$  \n",
       "4       NaN          NaN            NaN  archetecture and engineering    NaN  "
      ]
     },
     "execution_count": 160,
     "metadata": {},
     "output_type": "execute_result"
    }
   ],
   "source": [
    "data_Singapore = pd.read_csv(\"data/SingaporeTrain.csv\")\n",
    "data_NY = pd.read_csv(\"data/NYTrain.csv\")\n",
    "data_London = pd.read_csv(\"data/LondonTrain.csv\")\n",
    "data_Singapore.head()\n",
    "# data_NY.head()\n",
    "# data_London.head()"
   ]
  },
  {
   "cell_type": "markdown",
   "metadata": {},
   "source": [
    "# Combining all the data to a single dataframe"
   ]
  },
  {
   "cell_type": "code",
   "execution_count": 161,
   "metadata": {},
   "outputs": [
    {
     "data": {
      "text/plain": [
       "(10241, 11)"
      ]
     },
     "execution_count": 161,
     "metadata": {},
     "output_type": "execute_result"
    }
   ],
   "source": [
    "data_Singapore['source'] = 'Singapore'\n",
    "data_NY['source'] = 'NY'\n",
    "data_London['source'] = 'London'\n",
    "data = pd.concat([data_Singapore, data_NY, data_London],ignore_index=True)\n",
    "data.shape"
   ]
  },
  {
   "cell_type": "code",
   "execution_count": 162,
   "metadata": {},
   "outputs": [
    {
     "data": {
      "text/plain": [
       "array(['Singapore', 'NY', 'London'], dtype=object)"
      ]
     },
     "execution_count": 162,
     "metadata": {},
     "output_type": "execute_result"
    }
   ],
   "source": [
    "data['source'].unique()"
   ]
  },
  {
   "cell_type": "code",
   "execution_count": 163,
   "metadata": {},
   "outputs": [
    {
     "data": {
      "text/plain": [
       "array(['female', 'male', nan], dtype=object)"
      ]
     },
     "execution_count": 163,
     "metadata": {},
     "output_type": "execute_result"
    }
   ],
   "source": [
    "data['gender'].unique()"
   ]
  },
  {
   "cell_type": "code",
   "execution_count": 164,
   "metadata": {},
   "outputs": [
    {
     "data": {
      "text/plain": [
       "array([nan, 27., 19., 20., 22., 21., 34., 31., 23., 18., 36., 24., 26.,\n",
       "       29., 30., 25., 56., 46., 33., 28., 82., 35., 37., 39.])"
      ]
     },
     "execution_count": 164,
     "metadata": {},
     "output_type": "execute_result"
    }
   ],
   "source": [
    "data['realAge'].unique()"
   ]
  },
  {
   "cell_type": "code",
   "execution_count": 165,
   "metadata": {},
   "outputs": [
    {
     "data": {
      "text/plain": [
       "array([nan, 'AGE10_20', 'AGE20_30', 'AGE30_40', 'AGE40_50', 'AGE50_INF'],\n",
       "      dtype=object)"
      ]
     },
     "execution_count": 165,
     "metadata": {},
     "output_type": "execute_result"
    }
   ],
   "source": [
    "data['ageGroup'].unique()"
   ]
  },
  {
   "cell_type": "code",
   "execution_count": 166,
   "metadata": {},
   "outputs": [
    {
     "data": {
      "text/plain": [
       "array([nan, 'single', 'in a relationship', 'married'], dtype=object)"
      ]
     },
     "execution_count": 166,
     "metadata": {},
     "output_type": "execute_result"
    }
   ],
   "source": [
    "data['relationship'].unique()"
   ]
  },
  {
   "cell_type": "code",
   "execution_count": 167,
   "metadata": {},
   "outputs": [
    {
     "data": {
      "text/plain": [
       "array([nan, 'college', 'school', 'undergraduate', 'graduate'],\n",
       "      dtype=object)"
      ]
     },
     "execution_count": 167,
     "metadata": {},
     "output_type": "execute_result"
    }
   ],
   "source": [
    "data['educationLevel'].unique()"
   ]
  },
  {
   "cell_type": "code",
   "execution_count": 168,
   "metadata": {},
   "outputs": [
    {
     "data": {
      "text/plain": [
       "array([nan, 'archetecture and engineering',\n",
       "       'food preparation and service related',\n",
       "       'arts, design, entertainment, sports, and media', 'management',\n",
       "       'office and administrative support', 'personal care and service',\n",
       "       'protective service', 'healthcare support', 'sales and related',\n",
       "       'legal', 'transportation and material moving',\n",
       "       'computer and mathematical', 'production',\n",
       "       'life, physical, and social science',\n",
       "       'education, training, and library',\n",
       "       'healthcare practitioners and technical',\n",
       "       'building and grounds cleaning and maintenance',\n",
       "       'farming, fishing and forestry', 'construction and extraction',\n",
       "       'business and financial operations',\n",
       "       'community and social service'], dtype=object)"
      ]
     },
     "execution_count": 168,
     "metadata": {},
     "output_type": "execute_result"
    }
   ],
   "source": [
    "data['occupation'].unique()"
   ]
  },
  {
   "cell_type": "code",
   "execution_count": 169,
   "metadata": {},
   "outputs": [
    {
     "data": {
      "text/plain": [
       "array([nan, '$$', '$', '$$$', '$$$$'], dtype=object)"
      ]
     },
     "execution_count": 169,
     "metadata": {},
     "output_type": "execute_result"
    }
   ],
   "source": [
    "data['income'].unique()"
   ]
  },
  {
   "cell_type": "code",
   "execution_count": 170,
   "metadata": {},
   "outputs": [],
   "source": [
    "data['income'] = data['income'].fillna(\"no\").apply(lambda x: -1 if x == \"no\" else len(str(x)))"
   ]
  },
  {
   "cell_type": "code",
   "execution_count": 171,
   "metadata": {},
   "outputs": [
    {
     "data": {
      "text/plain": [
       "array([-1,  2,  1,  3,  4])"
      ]
     },
     "execution_count": 171,
     "metadata": {},
     "output_type": "execute_result"
    }
   ],
   "source": [
    "data['income'].unique()"
   ]
  },
  {
   "cell_type": "markdown",
   "metadata": {},
   "source": [
    "# Exctracting features from \"workInfoForAgeGroupEstimation\""
   ]
  },
  {
   "cell_type": "code",
   "execution_count": 172,
   "metadata": {
    "scrolled": true
   },
   "outputs": [
    {
     "data": {
      "text/plain": [
       "'PT. Duta Marga Lestarindo September 2013 to present Land Transport Authority Project Engineer � August 2011 to July 2013 T.Y. Lin International Civil Engineer � January 2010 to June 2010'"
      ]
     },
     "execution_count": 172,
     "metadata": {},
     "output_type": "execute_result"
    }
   ],
   "source": [
    "row_id = 4\n",
    "row = data['workInfoForAgeGroupEstimation'][row_id]\n",
    "# row = 'PT. Duta Marga Lestarindo September 19 present Land Transport Authority Project Engineer � August 2011 to July 2013 T.Y. Lin International Civil Engineer � January 2010 to June 2010'\n",
    "row"
   ]
  },
  {
   "cell_type": "code",
   "execution_count": 173,
   "metadata": {},
   "outputs": [],
   "source": [
    "def process_work_info(row):\n",
    "    years_raw = re.compile(r'\\b(?:19|20)\\d{2}|\\bpresent').findall(row)\n",
    "    years =  [int(year) if year != 'present' else 2018 for year in years_raw]\n",
    "    \n",
    "    start_year, number_of_places, total_length, mean_length, min_length, max_length, working_now = None, None, None, None, None, None, None\n",
    "    if row != None and len(years)<2:\n",
    "        number_of_places = 1\n",
    "    else:\n",
    "        pairs = [years[i:i+2] for i in range(0, len(years)-1, 2)]\n",
    "        lengths = [pair[1]-pair[0] for pair in pairs]\n",
    "        number_of_places = len(pairs)\n",
    "        max_length = max(lengths)\n",
    "        min_length = min(lengths)\n",
    "        total_length = sum(lengths)\n",
    "        mean_length = total_length / float(len(lengths))\n",
    "        start_year = min(years)\n",
    "        working_now = None\n",
    "        if len(years_raw)>0:\n",
    "            working_now = float('present' in years_raw) \n",
    "            \n",
    "    return start_year, number_of_places, total_length, mean_length, min_length, max_length, working_now"
   ]
  },
  {
   "cell_type": "code",
   "execution_count": 174,
   "metadata": {
    "scrolled": true
   },
   "outputs": [
    {
     "data": {
      "text/plain": [
       "(2010, 3, 7, 2.3333333333333335, 0, 5, True)"
      ]
     },
     "execution_count": 174,
     "metadata": {},
     "output_type": "execute_result"
    }
   ],
   "source": [
    "process_work_info(row)"
   ]
  },
  {
   "cell_type": "code",
   "execution_count": 175,
   "metadata": {},
   "outputs": [],
   "source": [
    "data['workInfoForAgeGroupEstimation'] = data['workInfoForAgeGroupEstimation'].map(str).apply(process_work_info)\n",
    "data = data.join(pd.DataFrame(data['workInfoForAgeGroupEstimation'].tolist(), index=data.index, columns=['w_start_year', 'w_number_of_places', 'w_total_length', 'w_mean_length', 'w_min_length', 'w_max_length', 'w_working_now']))\n",
    "data.drop(columns=['workInfoForAgeGroupEstimation'], inplace=True)"
   ]
  },
  {
   "cell_type": "markdown",
   "metadata": {},
   "source": [
    "# Exctracting features from \"educationInfoForAgeGroupEstimation\""
   ]
  },
  {
   "cell_type": "code",
   "execution_count": 176,
   "metadata": {},
   "outputs": [],
   "source": [
    "# possible_levels = ['college', 'school', 'undergraduate', 'graduate']\n",
    "\n",
    "# possible_values_for_levels = {}\n",
    "# \"Secondary School\", \"Ngee\", \"Institute\", \"University\", \"High School\"\n",
    "# # CHIJ Secondary (Toa Payoh) - автономная католическая школа для девочек в Сингапуре. \n",
    "# Class of 2010"
   ]
  },
  {
   "cell_type": "code",
   "execution_count": 177,
   "metadata": {
    "scrolled": false
   },
   "outputs": [
    {
     "data": {
      "text/plain": [
       "'SMK Seri Tanjong Class of 2009 � Melaka sek. men. seri tanjung,melaka (PMR) Class of 2005 � Malacca City, Malaysia sek. men. seri tanjung,melaka (SPM) Class of 2007 Maktab Koperasi Malaysia Class of 2012 � Kuching, Malaysia Uni of Oxford Oxford, Oxfordshire skm seri tanjung Class of 2009 � Malacca City, Malaysia'"
      ]
     },
     "execution_count": 177,
     "metadata": {},
     "output_type": "execute_result"
    }
   ],
   "source": [
    "row_id = 45\n",
    "row = data['educationInfoForAgeGroupEstimation'][row_id]\n",
    "# row = \"Republic Polytechnic 2012 to 2015 � Singapore CHIJ Kellock Singapore CHIJ St. Theresa&#039;s Convent Class of 2011 � Singapore Republic Polytechnic Integrated Event Management � Singapore\"\n",
    "row"
   ]
  },
  {
   "cell_type": "code",
   "execution_count": 178,
   "metadata": {
    "scrolled": true
   },
   "outputs": [],
   "source": [
    "def process_education_info(row):\n",
    "    class_of_years = [int(i) for i in re.compile(r'(?<=of )\\d{4}').findall(row)]\n",
    "    range_years_starts = [int(i) for i in re.compile(r'\\b(?:19|20)\\d{2}(?= to )').findall(row)]\n",
    "    range_years_ends = [int(i) if i != 'present' else 2018 for i in re.compile(r'(?<= to )(?:19|20)\\d{2}|\\bpresent').findall(row)]\n",
    "\n",
    "    first_start_year = None\n",
    "    last_start_year = None\n",
    "    if len(class_of_years)>0 or len(range_years_starts)>0:\n",
    "        first_start_year = min(class_of_years+range_years_starts)\n",
    "        last_start_year = max(class_of_years+range_years_starts) \n",
    "\n",
    "    \n",
    "    finish_year = None\n",
    "    if len(range_years_ends)>0:\n",
    "        finish_year = max(range_years_ends)\n",
    "    # else\n",
    "    #     if len(class_of_years)>0 | len(range_years_starts)>0:\n",
    "    #     finish_year = max(class_of_years) + 4 #usually one program = 4year\n",
    "\n",
    "    # study_now = None\n",
    "\n",
    "    number_of_programs = None\n",
    "    num = len(class_of_years)+len(range_years_starts)\n",
    "    if num<1 and len(row)>0:\n",
    "        number_of_programs = 1\n",
    "    else:\n",
    "        number_of_programs = num\n",
    "\n",
    "    return first_start_year, last_start_year, finish_year, number_of_programs"
   ]
  },
  {
   "cell_type": "code",
   "execution_count": 179,
   "metadata": {
    "scrolled": true
   },
   "outputs": [
    {
     "data": {
      "text/plain": [
       "(2005, 2012, None, 5)"
      ]
     },
     "execution_count": 179,
     "metadata": {},
     "output_type": "execute_result"
    }
   ],
   "source": [
    "process_education_info(row)"
   ]
  },
  {
   "cell_type": "code",
   "execution_count": 180,
   "metadata": {},
   "outputs": [],
   "source": [
    "data['educationInfoForAgeGroupEstimation'] = data['educationInfoForAgeGroupEstimation'].map(str).apply(process_education_info)\n",
    "data = data.join(pd.DataFrame(data['educationInfoForAgeGroupEstimation'].tolist(), index=data.index, columns=['e_first_start_year', 'e_last_start_year', 'e_finish_year', 'e_number_of_programs']))\n",
    "data.drop(columns=['educationInfoForAgeGroupEstimation'], inplace=True)"
   ]
  },
  {
   "cell_type": "markdown",
   "metadata": {},
   "source": [
    "# Some preprocessing"
   ]
  },
  {
   "cell_type": "code",
   "execution_count": 181,
   "metadata": {},
   "outputs": [],
   "source": [
    "columns_to_hot = ['gender', 'relationship', 'educationLevel', 'occupation', 'source']\n",
    "data = pd.get_dummies(data, columns=columns_to_hot)\n",
    "data_with_labels = data[data['ageGroup'].notnull()].drop(columns=['row ID']).fillna(-1.0)\n",
    "\n",
    "from sklearn.preprocessing import LabelEncoder\n",
    "LE = LabelEncoder()\n",
    "data_with_labels['ageGroup'] = LE.fit_transform(data_with_labels['ageGroup'])"
   ]
  },
  {
   "cell_type": "code",
   "execution_count": 182,
   "metadata": {
    "scrolled": true
   },
   "outputs": [
    {
     "data": {
      "text/html": [
       "<div>\n",
       "<style scoped>\n",
       "    .dataframe tbody tr th:only-of-type {\n",
       "        vertical-align: middle;\n",
       "    }\n",
       "\n",
       "    .dataframe tbody tr th {\n",
       "        vertical-align: top;\n",
       "    }\n",
       "\n",
       "    .dataframe thead th {\n",
       "        text-align: right;\n",
       "    }\n",
       "</style>\n",
       "<table border=\"1\" class=\"dataframe\">\n",
       "  <thead>\n",
       "    <tr style=\"text-align: right;\">\n",
       "      <th></th>\n",
       "      <th>realAge</th>\n",
       "      <th>ageGroup</th>\n",
       "      <th>income</th>\n",
       "      <th>w_start_year</th>\n",
       "      <th>w_number_of_places</th>\n",
       "      <th>w_total_length</th>\n",
       "      <th>w_mean_length</th>\n",
       "      <th>w_min_length</th>\n",
       "      <th>w_max_length</th>\n",
       "      <th>w_working_now</th>\n",
       "      <th>...</th>\n",
       "      <th>occupation_management</th>\n",
       "      <th>occupation_office and administrative support</th>\n",
       "      <th>occupation_personal care and service</th>\n",
       "      <th>occupation_production</th>\n",
       "      <th>occupation_protective service</th>\n",
       "      <th>occupation_sales and related</th>\n",
       "      <th>occupation_transportation and material moving</th>\n",
       "      <th>source_London</th>\n",
       "      <th>source_NY</th>\n",
       "      <th>source_Singapore</th>\n",
       "    </tr>\n",
       "  </thead>\n",
       "  <tbody>\n",
       "    <tr>\n",
       "      <th>2</th>\n",
       "      <td>-1.0</td>\n",
       "      <td>0</td>\n",
       "      <td>-1</td>\n",
       "      <td>-1.0</td>\n",
       "      <td>1</td>\n",
       "      <td>-1.0</td>\n",
       "      <td>-1.0</td>\n",
       "      <td>-1.0</td>\n",
       "      <td>-1.0</td>\n",
       "      <td>-1</td>\n",
       "      <td>...</td>\n",
       "      <td>0</td>\n",
       "      <td>0</td>\n",
       "      <td>0</td>\n",
       "      <td>0</td>\n",
       "      <td>0</td>\n",
       "      <td>0</td>\n",
       "      <td>0</td>\n",
       "      <td>0</td>\n",
       "      <td>0</td>\n",
       "      <td>1</td>\n",
       "    </tr>\n",
       "    <tr>\n",
       "      <th>5</th>\n",
       "      <td>27.0</td>\n",
       "      <td>1</td>\n",
       "      <td>-1</td>\n",
       "      <td>-1.0</td>\n",
       "      <td>1</td>\n",
       "      <td>-1.0</td>\n",
       "      <td>-1.0</td>\n",
       "      <td>-1.0</td>\n",
       "      <td>-1.0</td>\n",
       "      <td>-1</td>\n",
       "      <td>...</td>\n",
       "      <td>0</td>\n",
       "      <td>0</td>\n",
       "      <td>0</td>\n",
       "      <td>0</td>\n",
       "      <td>0</td>\n",
       "      <td>0</td>\n",
       "      <td>0</td>\n",
       "      <td>0</td>\n",
       "      <td>0</td>\n",
       "      <td>1</td>\n",
       "    </tr>\n",
       "    <tr>\n",
       "      <th>11</th>\n",
       "      <td>-1.0</td>\n",
       "      <td>0</td>\n",
       "      <td>-1</td>\n",
       "      <td>-1.0</td>\n",
       "      <td>1</td>\n",
       "      <td>-1.0</td>\n",
       "      <td>-1.0</td>\n",
       "      <td>-1.0</td>\n",
       "      <td>-1.0</td>\n",
       "      <td>-1</td>\n",
       "      <td>...</td>\n",
       "      <td>0</td>\n",
       "      <td>0</td>\n",
       "      <td>0</td>\n",
       "      <td>0</td>\n",
       "      <td>0</td>\n",
       "      <td>0</td>\n",
       "      <td>0</td>\n",
       "      <td>0</td>\n",
       "      <td>0</td>\n",
       "      <td>1</td>\n",
       "    </tr>\n",
       "    <tr>\n",
       "      <th>16</th>\n",
       "      <td>19.0</td>\n",
       "      <td>1</td>\n",
       "      <td>-1</td>\n",
       "      <td>-1.0</td>\n",
       "      <td>1</td>\n",
       "      <td>-1.0</td>\n",
       "      <td>-1.0</td>\n",
       "      <td>-1.0</td>\n",
       "      <td>-1.0</td>\n",
       "      <td>-1</td>\n",
       "      <td>...</td>\n",
       "      <td>0</td>\n",
       "      <td>0</td>\n",
       "      <td>0</td>\n",
       "      <td>0</td>\n",
       "      <td>0</td>\n",
       "      <td>0</td>\n",
       "      <td>0</td>\n",
       "      <td>0</td>\n",
       "      <td>0</td>\n",
       "      <td>1</td>\n",
       "    </tr>\n",
       "    <tr>\n",
       "      <th>17</th>\n",
       "      <td>-1.0</td>\n",
       "      <td>1</td>\n",
       "      <td>-1</td>\n",
       "      <td>-1.0</td>\n",
       "      <td>1</td>\n",
       "      <td>-1.0</td>\n",
       "      <td>-1.0</td>\n",
       "      <td>-1.0</td>\n",
       "      <td>-1.0</td>\n",
       "      <td>-1</td>\n",
       "      <td>...</td>\n",
       "      <td>0</td>\n",
       "      <td>0</td>\n",
       "      <td>0</td>\n",
       "      <td>0</td>\n",
       "      <td>0</td>\n",
       "      <td>0</td>\n",
       "      <td>0</td>\n",
       "      <td>0</td>\n",
       "      <td>0</td>\n",
       "      <td>1</td>\n",
       "    </tr>\n",
       "  </tbody>\n",
       "</table>\n",
       "<p>5 rows × 47 columns</p>\n",
       "</div>"
      ],
      "text/plain": [
       "    realAge  ageGroup  income  w_start_year  w_number_of_places  \\\n",
       "2      -1.0         0      -1          -1.0                   1   \n",
       "5      27.0         1      -1          -1.0                   1   \n",
       "11     -1.0         0      -1          -1.0                   1   \n",
       "16     19.0         1      -1          -1.0                   1   \n",
       "17     -1.0         1      -1          -1.0                   1   \n",
       "\n",
       "    w_total_length  w_mean_length  w_min_length  w_max_length w_working_now  \\\n",
       "2             -1.0           -1.0          -1.0          -1.0            -1   \n",
       "5             -1.0           -1.0          -1.0          -1.0            -1   \n",
       "11            -1.0           -1.0          -1.0          -1.0            -1   \n",
       "16            -1.0           -1.0          -1.0          -1.0            -1   \n",
       "17            -1.0           -1.0          -1.0          -1.0            -1   \n",
       "\n",
       "          ...         occupation_management  \\\n",
       "2         ...                             0   \n",
       "5         ...                             0   \n",
       "11        ...                             0   \n",
       "16        ...                             0   \n",
       "17        ...                             0   \n",
       "\n",
       "    occupation_office and administrative support  \\\n",
       "2                                              0   \n",
       "5                                              0   \n",
       "11                                             0   \n",
       "16                                             0   \n",
       "17                                             0   \n",
       "\n",
       "    occupation_personal care and service  occupation_production  \\\n",
       "2                                      0                      0   \n",
       "5                                      0                      0   \n",
       "11                                     0                      0   \n",
       "16                                     0                      0   \n",
       "17                                     0                      0   \n",
       "\n",
       "    occupation_protective service  occupation_sales and related  \\\n",
       "2                               0                             0   \n",
       "5                               0                             0   \n",
       "11                              0                             0   \n",
       "16                              0                             0   \n",
       "17                              0                             0   \n",
       "\n",
       "    occupation_transportation and material moving  source_London  source_NY  \\\n",
       "2                                               0              0          0   \n",
       "5                                               0              0          0   \n",
       "11                                              0              0          0   \n",
       "16                                              0              0          0   \n",
       "17                                              0              0          0   \n",
       "\n",
       "    source_Singapore  \n",
       "2                  1  \n",
       "5                  1  \n",
       "11                 1  \n",
       "16                 1  \n",
       "17                 1  \n",
       "\n",
       "[5 rows x 47 columns]"
      ]
     },
     "execution_count": 182,
     "metadata": {},
     "output_type": "execute_result"
    }
   ],
   "source": [
    "data_with_labels.head()"
   ]
  },
  {
   "cell_type": "markdown",
   "metadata": {},
   "source": [
    "# MODELS\n",
    "Train-test split"
   ]
  },
  {
   "cell_type": "code",
   "execution_count": 183,
   "metadata": {},
   "outputs": [],
   "source": [
    "from sklearn.model_selection import train_test_split\n",
    "X_train, X_test, y_train, y_test = train_test_split(data_with_labels.drop(columns=['ageGroup']), data_with_labels.ageGroup, test_size=0.3, random_state=42)"
   ]
  },
  {
   "cell_type": "markdown",
   "metadata": {},
   "source": [
    "## RandomForestClassifier"
   ]
  },
  {
   "cell_type": "code",
   "execution_count": 184,
   "metadata": {},
   "outputs": [],
   "source": [
    "from sklearn.ensemble import RandomForestClassifier\n",
    "from xgboost import XGBClassifier\n",
    "from sklearn.metrics import f1_score, accuracy_score\n",
    "\n",
    "rf_cls = RandomForestClassifier(n_estimators=100)\n",
    "xgb_cls = XGBClassifier()"
   ]
  },
  {
   "cell_type": "markdown",
   "metadata": {},
   "source": [
    "## Learning and scores"
   ]
  },
  {
   "cell_type": "code",
   "execution_count": 185,
   "metadata": {
    "scrolled": true
   },
   "outputs": [
    {
     "name": "stdout",
     "output_type": "stream",
     "text": [
      "F1 score on train: 0.9838492597577388\n",
      "F1 score on test: 0.7700038405066696\n",
      "Accuracy on train: 0.9838492597577388\n",
      "Accuracy on test: 0.780564263322884\n",
      "CPU times: user 223 ms, sys: 0 ns, total: 223 ms\n",
      "Wall time: 222 ms\n"
     ]
    },
    {
     "name": "stderr",
     "output_type": "stream",
     "text": [
      "/home/saitkulov/anaconda3/lib/python3.6/site-packages/sklearn/metrics/classification.py:1135: UndefinedMetricWarning: F-score is ill-defined and being set to 0.0 in labels with no predicted samples.\n",
      "  'precision', 'predicted', average, warn_for)\n"
     ]
    }
   ],
   "source": [
    "%%time\n",
    "rf_cls.fit(X_train, y_train)\n",
    "y_pred_on_train = rf_cls.predict(X_train)\n",
    "y_pred_on_test = rf_cls.predict(X_test)\n",
    "\n",
    "print(\"F1 score on train:\", f1_score(y_train, y_pred_on_train, average='weighted'))\n",
    "print(\"F1 score on test:\", f1_score(y_test, y_pred_on_test, average='weighted'))\n",
    "print(\"Accuracy on train:\", accuracy_score(y_train, y_pred_on_train))\n",
    "print(\"Accuracy on test:\", accuracy_score(y_test, y_pred_on_test))"
   ]
  },
  {
   "cell_type": "code",
   "execution_count": 186,
   "metadata": {
    "scrolled": true
   },
   "outputs": [
    {
     "ename": "ValueError",
     "evalue": "DataFrame.dtypes for data must be int, float or bool.\n                Did not expect the data types in fields w_working_now",
     "output_type": "error",
     "traceback": [
      "\u001b[0;31m---------------------------------------------------------------------------\u001b[0m",
      "\u001b[0;31mValueError\u001b[0m                                Traceback (most recent call last)",
      "\u001b[0;32m<timed exec>\u001b[0m in \u001b[0;36m<module>\u001b[0;34m()\u001b[0m\n",
      "\u001b[0;32m~/anaconda3/lib/python3.6/site-packages/xgboost/sklearn.py\u001b[0m in \u001b[0;36mfit\u001b[0;34m(self, X, y, sample_weight, eval_set, eval_metric, early_stopping_rounds, verbose, xgb_model, sample_weight_eval_set, callbacks)\u001b[0m\n\u001b[1;32m    691\u001b[0m         \u001b[0;32melse\u001b[0m\u001b[0;34m:\u001b[0m\u001b[0;34m\u001b[0m\u001b[0m\n\u001b[1;32m    692\u001b[0m             train_dmatrix = DMatrix(X, label=training_labels,\n\u001b[0;32m--> 693\u001b[0;31m                                     missing=self.missing, nthread=self.n_jobs)\n\u001b[0m\u001b[1;32m    694\u001b[0m \u001b[0;34m\u001b[0m\u001b[0m\n\u001b[1;32m    695\u001b[0m         self._Booster = train(xgb_options, train_dmatrix, self.n_estimators,\n",
      "\u001b[0;32m~/anaconda3/lib/python3.6/site-packages/xgboost/core.py\u001b[0m in \u001b[0;36m__init__\u001b[0;34m(self, data, label, missing, weight, silent, feature_names, feature_types, nthread)\u001b[0m\n\u001b[1;32m    361\u001b[0m         data, feature_names, feature_types = _maybe_pandas_data(data,\n\u001b[1;32m    362\u001b[0m                                                                 \u001b[0mfeature_names\u001b[0m\u001b[0;34m,\u001b[0m\u001b[0;34m\u001b[0m\u001b[0m\n\u001b[0;32m--> 363\u001b[0;31m                                                                 feature_types)\n\u001b[0m\u001b[1;32m    364\u001b[0m \u001b[0;34m\u001b[0m\u001b[0m\n\u001b[1;32m    365\u001b[0m         data, feature_names, feature_types = _maybe_dt_data(data,\n",
      "\u001b[0;32m~/anaconda3/lib/python3.6/site-packages/xgboost/core.py\u001b[0m in \u001b[0;36m_maybe_pandas_data\u001b[0;34m(data, feature_names, feature_types)\u001b[0m\n\u001b[1;32m    226\u001b[0m         msg = \"\"\"DataFrame.dtypes for data must be int, float or bool.\n\u001b[1;32m    227\u001b[0m                 Did not expect the data types in fields \"\"\"\n\u001b[0;32m--> 228\u001b[0;31m         \u001b[0;32mraise\u001b[0m \u001b[0mValueError\u001b[0m\u001b[0;34m(\u001b[0m\u001b[0mmsg\u001b[0m \u001b[0;34m+\u001b[0m \u001b[0;34m', '\u001b[0m\u001b[0;34m.\u001b[0m\u001b[0mjoin\u001b[0m\u001b[0;34m(\u001b[0m\u001b[0mbad_fields\u001b[0m\u001b[0;34m)\u001b[0m\u001b[0;34m)\u001b[0m\u001b[0;34m\u001b[0m\u001b[0m\n\u001b[0m\u001b[1;32m    229\u001b[0m \u001b[0;34m\u001b[0m\u001b[0m\n\u001b[1;32m    230\u001b[0m     \u001b[0;32mif\u001b[0m \u001b[0mfeature_names\u001b[0m \u001b[0;32mis\u001b[0m \u001b[0;32mNone\u001b[0m\u001b[0;34m:\u001b[0m\u001b[0;34m\u001b[0m\u001b[0m\n",
      "\u001b[0;31mValueError\u001b[0m: DataFrame.dtypes for data must be int, float or bool.\n                Did not expect the data types in fields w_working_now"
     ]
    }
   ],
   "source": [
    "%%time\n",
    "xgb_cls.fit(X_train, y_train)\n",
    "y_pred_on_train = xgb_cls.predict(X_train)\n",
    "y_pred_on_test = xgb_cls.predict(X_test)\n",
    "\n",
    "print(\"F1 score on train:\", f1_score(y_train, y_pred_on_train, average='weighted'))\n",
    "print(\"F1 score on test:\", f1_score(y_test, y_pred_on_test, average='weighted'))\n",
    "print(\"Accuracy on train:\", accuracy_score(y_train, y_pred_on_train))\n",
    "print(\"Accuracy on test:\", accuracy_score(y_test, y_pred_on_test))"
   ]
  },
  {
   "cell_type": "markdown",
   "metadata": {},
   "source": [
    "## Confusion Matrix"
   ]
  },
  {
   "cell_type": "code",
   "execution_count": 187,
   "metadata": {},
   "outputs": [
    {
     "data": {
      "text/plain": [
       "(array([0, 1, 2, 3, 4]), array([117, 173,  21,   6,   2]))"
      ]
     },
     "execution_count": 187,
     "metadata": {},
     "output_type": "execute_result"
    }
   ],
   "source": [
    "np.unique(y_test, return_counts=True)"
   ]
  },
  {
   "cell_type": "code",
   "execution_count": 188,
   "metadata": {
    "scrolled": true
   },
   "outputs": [
    {
     "name": "stdout",
     "output_type": "stream",
     "text": [
      "Predicted  AGE10_20  AGE20_30  AGE30_40\n",
      "Actual                                 \n",
      "AGE10_20         86        31         0\n",
      "AGE20_30         25       146         2\n",
      "AGE30_40          0         4        17\n",
      "AGE40_50          0         1         5\n",
      "AGE50_INF         0         2         0\n"
     ]
    }
   ],
   "source": [
    "y_pred_rf = rf_cls.predict(X_test)\n",
    "reversefactor = dict(zip(range(5), LE.classes_))\n",
    "y_test = np.vectorize(reversefactor.get)(y_test)\n",
    "y_pred_rf = np.vectorize(reversefactor.get)(y_pred_rf)\n",
    "# Making the Confusion Matrix\n",
    "print(pd.crosstab(y_test, y_pred_rf, rownames=['Actual'], colnames=['Predicted']))"
   ]
  },
  {
   "cell_type": "code",
   "execution_count": 189,
   "metadata": {
    "scrolled": true
   },
   "outputs": [
    {
     "ename": "ValueError",
     "evalue": "DataFrame.dtypes for data must be int, float or bool.\n                Did not expect the data types in fields w_working_now",
     "output_type": "error",
     "traceback": [
      "\u001b[0;31m---------------------------------------------------------------------------\u001b[0m",
      "\u001b[0;31mValueError\u001b[0m                                Traceback (most recent call last)",
      "\u001b[0;32m<ipython-input-189-6afdabb6e63a>\u001b[0m in \u001b[0;36m<module>\u001b[0;34m()\u001b[0m\n\u001b[0;32m----> 1\u001b[0;31m \u001b[0my_pred\u001b[0m \u001b[0;34m=\u001b[0m \u001b[0mxgb_cls\u001b[0m\u001b[0;34m.\u001b[0m\u001b[0mpredict\u001b[0m\u001b[0;34m(\u001b[0m\u001b[0mX_test\u001b[0m\u001b[0;34m)\u001b[0m\u001b[0;34m\u001b[0m\u001b[0m\n\u001b[0m\u001b[1;32m      2\u001b[0m \u001b[0mreversefactor\u001b[0m \u001b[0;34m=\u001b[0m \u001b[0mdict\u001b[0m\u001b[0;34m(\u001b[0m\u001b[0mzip\u001b[0m\u001b[0;34m(\u001b[0m\u001b[0mrange\u001b[0m\u001b[0;34m(\u001b[0m\u001b[0;36m5\u001b[0m\u001b[0;34m)\u001b[0m\u001b[0;34m,\u001b[0m \u001b[0mLE\u001b[0m\u001b[0;34m.\u001b[0m\u001b[0mclasses_\u001b[0m\u001b[0;34m)\u001b[0m\u001b[0;34m)\u001b[0m\u001b[0;34m\u001b[0m\u001b[0m\n\u001b[1;32m      3\u001b[0m \u001b[0;31m# y_test = np.vectorize(reversefactor.get)(y_test)\u001b[0m\u001b[0;34m\u001b[0m\u001b[0;34m\u001b[0m\u001b[0m\n\u001b[1;32m      4\u001b[0m \u001b[0my_pred\u001b[0m \u001b[0;34m=\u001b[0m \u001b[0mnp\u001b[0m\u001b[0;34m.\u001b[0m\u001b[0mvectorize\u001b[0m\u001b[0;34m(\u001b[0m\u001b[0mreversefactor\u001b[0m\u001b[0;34m.\u001b[0m\u001b[0mget\u001b[0m\u001b[0;34m)\u001b[0m\u001b[0;34m(\u001b[0m\u001b[0my_pred\u001b[0m\u001b[0;34m)\u001b[0m\u001b[0;34m\u001b[0m\u001b[0m\n\u001b[1;32m      5\u001b[0m \u001b[0;31m# Making the Confusion Matrix\u001b[0m\u001b[0;34m\u001b[0m\u001b[0;34m\u001b[0m\u001b[0m\n",
      "\u001b[0;32m~/anaconda3/lib/python3.6/site-packages/xgboost/sklearn.py\u001b[0m in \u001b[0;36mpredict\u001b[0;34m(self, data, output_margin, ntree_limit, validate_features)\u001b[0m\n\u001b[1;32m    751\u001b[0m         \u001b[0mprediction\u001b[0m \u001b[0;34m:\u001b[0m \u001b[0mnumpy\u001b[0m \u001b[0marray\u001b[0m\u001b[0;34m\u001b[0m\u001b[0m\n\u001b[1;32m    752\u001b[0m         \"\"\"\n\u001b[0;32m--> 753\u001b[0;31m         \u001b[0mtest_dmatrix\u001b[0m \u001b[0;34m=\u001b[0m \u001b[0mDMatrix\u001b[0m\u001b[0;34m(\u001b[0m\u001b[0mdata\u001b[0m\u001b[0;34m,\u001b[0m \u001b[0mmissing\u001b[0m\u001b[0;34m=\u001b[0m\u001b[0mself\u001b[0m\u001b[0;34m.\u001b[0m\u001b[0mmissing\u001b[0m\u001b[0;34m,\u001b[0m \u001b[0mnthread\u001b[0m\u001b[0;34m=\u001b[0m\u001b[0mself\u001b[0m\u001b[0;34m.\u001b[0m\u001b[0mn_jobs\u001b[0m\u001b[0;34m)\u001b[0m\u001b[0;34m\u001b[0m\u001b[0m\n\u001b[0m\u001b[1;32m    754\u001b[0m         \u001b[0;32mif\u001b[0m \u001b[0mntree_limit\u001b[0m \u001b[0;32mis\u001b[0m \u001b[0;32mNone\u001b[0m\u001b[0;34m:\u001b[0m\u001b[0;34m\u001b[0m\u001b[0m\n\u001b[1;32m    755\u001b[0m             \u001b[0mntree_limit\u001b[0m \u001b[0;34m=\u001b[0m \u001b[0mgetattr\u001b[0m\u001b[0;34m(\u001b[0m\u001b[0mself\u001b[0m\u001b[0;34m,\u001b[0m \u001b[0;34m\"best_ntree_limit\"\u001b[0m\u001b[0;34m,\u001b[0m \u001b[0;36m0\u001b[0m\u001b[0;34m)\u001b[0m\u001b[0;34m\u001b[0m\u001b[0m\n",
      "\u001b[0;32m~/anaconda3/lib/python3.6/site-packages/xgboost/core.py\u001b[0m in \u001b[0;36m__init__\u001b[0;34m(self, data, label, missing, weight, silent, feature_names, feature_types, nthread)\u001b[0m\n\u001b[1;32m    361\u001b[0m         data, feature_names, feature_types = _maybe_pandas_data(data,\n\u001b[1;32m    362\u001b[0m                                                                 \u001b[0mfeature_names\u001b[0m\u001b[0;34m,\u001b[0m\u001b[0;34m\u001b[0m\u001b[0m\n\u001b[0;32m--> 363\u001b[0;31m                                                                 feature_types)\n\u001b[0m\u001b[1;32m    364\u001b[0m \u001b[0;34m\u001b[0m\u001b[0m\n\u001b[1;32m    365\u001b[0m         data, feature_names, feature_types = _maybe_dt_data(data,\n",
      "\u001b[0;32m~/anaconda3/lib/python3.6/site-packages/xgboost/core.py\u001b[0m in \u001b[0;36m_maybe_pandas_data\u001b[0;34m(data, feature_names, feature_types)\u001b[0m\n\u001b[1;32m    226\u001b[0m         msg = \"\"\"DataFrame.dtypes for data must be int, float or bool.\n\u001b[1;32m    227\u001b[0m                 Did not expect the data types in fields \"\"\"\n\u001b[0;32m--> 228\u001b[0;31m         \u001b[0;32mraise\u001b[0m \u001b[0mValueError\u001b[0m\u001b[0;34m(\u001b[0m\u001b[0mmsg\u001b[0m \u001b[0;34m+\u001b[0m \u001b[0;34m', '\u001b[0m\u001b[0;34m.\u001b[0m\u001b[0mjoin\u001b[0m\u001b[0;34m(\u001b[0m\u001b[0mbad_fields\u001b[0m\u001b[0;34m)\u001b[0m\u001b[0;34m)\u001b[0m\u001b[0;34m\u001b[0m\u001b[0m\n\u001b[0m\u001b[1;32m    229\u001b[0m \u001b[0;34m\u001b[0m\u001b[0m\n\u001b[1;32m    230\u001b[0m     \u001b[0;32mif\u001b[0m \u001b[0mfeature_names\u001b[0m \u001b[0;32mis\u001b[0m \u001b[0;32mNone\u001b[0m\u001b[0;34m:\u001b[0m\u001b[0;34m\u001b[0m\u001b[0m\n",
      "\u001b[0;31mValueError\u001b[0m: DataFrame.dtypes for data must be int, float or bool.\n                Did not expect the data types in fields w_working_now"
     ]
    }
   ],
   "source": [
    "y_pred = xgb_cls.predict(X_test)\n",
    "reversefactor = dict(zip(range(5), LE.classes_))\n",
    "# y_test = np.vectorize(reversefactor.get)(y_test)\n",
    "y_pred = np.vectorize(reversefactor.get)(y_pred)\n",
    "# Making the Confusion Matrix\n",
    "print(pd.crosstab(y_test, y_pred, rownames=['Actual'], colnames=['Predicted']))"
   ]
  },
  {
   "cell_type": "markdown",
   "metadata": {},
   "source": [
    "## Features importances"
   ]
  },
  {
   "cell_type": "code",
   "execution_count": 157,
   "metadata": {
    "scrolled": true
   },
   "outputs": [
    {
     "data": {
      "text/plain": [
       "[('e_last_start_year', 0.17958494302930744),\n",
       " ('e_first_start_year', 0.16126612588014083),\n",
       " ('realAge', 0.10143081973628658),\n",
       " ('educationLevel_school', 0.05564504971959782),\n",
       " ('e_number_of_programs', 0.05275479060387741),\n",
       " ('educationLevel_undergraduate', 0.04288504256657848),\n",
       " ('educationLevel_college', 0.03517498150200042),\n",
       " ('w_total_length', 0.034941496975630294),\n",
       " ('w_mean_length', 0.031012004015159324),\n",
       " ('e_finish_year', 0.029827898508955415),\n",
       " ('w_start_year', 0.029677611886025093),\n",
       " ('w_max_length', 0.028674853035191863),\n",
       " ('w_min_length', 0.027338213631303624),\n",
       " ('relationship_single', 0.022209040952963548),\n",
       " ('w_number_of_places', 0.018910957961733393),\n",
       " ('gender_male', 0.018626470366245772),\n",
       " ('gender_female', 0.016914701912439233),\n",
       " ('income', 0.014059360761262072),\n",
       " ('relationship_married', 0.012373753787609435),\n",
       " ('w_working_now', 0.012311282232543097)]"
      ]
     },
     "execution_count": 157,
     "metadata": {},
     "output_type": "execute_result"
    }
   ],
   "source": [
    "sorted_importance = sorted(list(zip(X_train.columns, rf_cls.feature_importances_)), key=lambda tup: tup[1], reverse=True)\n",
    "sorted_importance[:20]"
   ]
  },
  {
   "cell_type": "code",
   "execution_count": 158,
   "metadata": {},
   "outputs": [
    {
     "data": {
      "text/plain": [
       "[('e_last_start_year', 0.24749772),\n",
       " ('e_first_start_year', 0.15787078),\n",
       " ('realAge', 0.14240219),\n",
       " ('educationLevel_undergraduate', 0.055505004),\n",
       " ('w_total_length', 0.049590535),\n",
       " ('w_mean_length', 0.045950864),\n",
       " ('educationLevel_school', 0.040491357),\n",
       " ('w_start_year', 0.035486806),\n",
       " ('e_number_of_programs', 0.03275705),\n",
       " ('e_finish_year', 0.027297543),\n",
       " ('educationLevel_college', 0.022292994),\n",
       " ('w_max_length', 0.016833484),\n",
       " ('gender_female', 0.015468608),\n",
       " ('w_number_of_places', 0.015013649),\n",
       " ('w_min_length', 0.012283894),\n",
       " ('occupation_legal', 0.010009099),\n",
       " ('occupation_education, training, and library', 0.00955414),\n",
       " ('income', 0.009099181),\n",
       " ('occupation_arts, design, entertainment, sports, and media', 0.009099181),\n",
       " ('occupation_management', 0.008644222)]"
      ]
     },
     "execution_count": 158,
     "metadata": {},
     "output_type": "execute_result"
    }
   ],
   "source": [
    "sorted_importance = sorted(list(zip(X_train.columns, xgb_cls.feature_importances_)), key=lambda tup: tup[1], reverse=True)\n",
    "sorted_importance[:20]"
   ]
  },
  {
   "cell_type": "markdown",
   "metadata": {},
   "source": [
    "# Preprocess test csv data"
   ]
  },
  {
   "cell_type": "code",
   "execution_count": 117,
   "metadata": {},
   "outputs": [],
   "source": [
    "def process_test_csv(path):\n",
    "    test_data_Singapore = pd.read_csv(path+\"SingaporeTest.csv\")\n",
    "    test_data_NY = pd.read_csv(path+\"NYTest.csv\")\n",
    "    test_data_London = pd.read_csv(path+\"LondonTest.csv\")\n",
    "\n",
    "    test_data_Singapore['source'] = 'Singapore'\n",
    "    test_data_NY['source'] = 'NY'\n",
    "    test_data_London['source'] = 'London'\n",
    "    test_data = pd.concat([test_data_Singapore, test_data_NY, test_data_London],ignore_index=True)\n",
    "\n",
    "    test_data['income'] = test_data['income'].fillna(\"no\").apply(lambda x: -1 if x == \"no\" else len(str(x)))\n",
    "\n",
    "    test_data['workInfoForAgeGroupEstimation'] = test_data['workInfoForAgeGroupEstimation'].map(str).apply(process_work_info)\n",
    "    test_data = test_data.join(pd.DataFrame(test_data['workInfoForAgeGroupEstimation'].tolist(), index=test_data.index, columns=['w_start_year', 'w_number_of_places', 'w_total_length', 'w_mean_length', 'w_min_length', 'w_max_length', 'w_working_now']))\n",
    "    test_data.drop(columns=['workInfoForAgeGroupEstimation'], inplace=True)\n",
    "\n",
    "    test_data['educationInfoForAgeGroupEstimation'] = test_data['educationInfoForAgeGroupEstimation'].map(str).apply(process_education_info)\n",
    "    test_data = test_data.join(pd.DataFrame(test_data['educationInfoForAgeGroupEstimation'].tolist(), index=test_data.index, columns=['e_first_start_year', 'e_last_start_year', 'e_finish_year', 'e_number_of_programs']))\n",
    "    test_data.drop(columns=['educationInfoForAgeGroupEstimation'], inplace=True)\n",
    "\n",
    "    columns_to_hot = ['gender', 'relationship', 'educationLevel', 'occupation', 'source']\n",
    "    test_data = pd.get_dummies(test_data, columns=columns_to_hot)\n",
    "    test_data_with_labels = test_data[test_data['ageGroup'].notnull()].drop(columns=['row ID']).fillna(-1.0)\n",
    "    for i in set(data_with_labels.columns)-set(test_data_with_labels.columns):\n",
    "        test_data_with_labels.insert(len(test_data_with_labels.columns), i, 0)\n",
    "\n",
    "\n",
    "    test_data_with_labels['ageGroup'] = LE.transform(test_data_with_labels['ageGroup'])\n",
    "    return test_data_with_labels"
   ]
  },
  {
   "cell_type": "markdown",
   "metadata": {},
   "source": [
    "# Reading and processing new csv"
   ]
  },
  {
   "cell_type": "code",
   "execution_count": 119,
   "metadata": {},
   "outputs": [
    {
     "ename": "FileNotFoundError",
     "evalue": "File b'./data/SingaporeTest.csv' does not exist",
     "output_type": "error",
     "traceback": [
      "\u001b[0;31m---------------------------------------------------------------------------\u001b[0m",
      "\u001b[0;31mFileNotFoundError\u001b[0m                         Traceback (most recent call last)",
      "\u001b[0;32m<ipython-input-119-946bdb14bdec>\u001b[0m in \u001b[0;36m<module>\u001b[0;34m()\u001b[0m\n\u001b[1;32m      1\u001b[0m \u001b[0mpath\u001b[0m \u001b[0;34m=\u001b[0m \u001b[0;34m\"./data/\"\u001b[0m\u001b[0;34m\u001b[0m\u001b[0m\n\u001b[0;32m----> 2\u001b[0;31m \u001b[0mtest_data_with_labels\u001b[0m \u001b[0;34m=\u001b[0m \u001b[0mprocess_test_csv\u001b[0m\u001b[0;34m(\u001b[0m\u001b[0mpath\u001b[0m\u001b[0;34m)\u001b[0m\u001b[0;34m\u001b[0m\u001b[0m\n\u001b[0m\u001b[1;32m      3\u001b[0m \u001b[0mX\u001b[0m\u001b[0;34m,\u001b[0m \u001b[0my\u001b[0m \u001b[0;34m=\u001b[0m \u001b[0mtest_data_with_labels\u001b[0m\u001b[0;34m.\u001b[0m\u001b[0mdrop\u001b[0m\u001b[0;34m(\u001b[0m\u001b[0mcolumns\u001b[0m\u001b[0;34m=\u001b[0m\u001b[0;34m[\u001b[0m\u001b[0;34m'ageGroup'\u001b[0m\u001b[0;34m]\u001b[0m\u001b[0;34m)\u001b[0m\u001b[0;34m,\u001b[0m \u001b[0mtest_data_with_labels\u001b[0m\u001b[0;34m.\u001b[0m\u001b[0mageGroup\u001b[0m\u001b[0;34m\u001b[0m\u001b[0m\n",
      "\u001b[0;32m<ipython-input-117-8d916b77e763>\u001b[0m in \u001b[0;36mprocess_test_csv\u001b[0;34m(path)\u001b[0m\n\u001b[1;32m      1\u001b[0m \u001b[0;32mdef\u001b[0m \u001b[0mprocess_test_csv\u001b[0m\u001b[0;34m(\u001b[0m\u001b[0mpath\u001b[0m\u001b[0;34m)\u001b[0m\u001b[0;34m:\u001b[0m\u001b[0;34m\u001b[0m\u001b[0m\n\u001b[0;32m----> 2\u001b[0;31m     \u001b[0mtest_data_Singapore\u001b[0m \u001b[0;34m=\u001b[0m \u001b[0mpd\u001b[0m\u001b[0;34m.\u001b[0m\u001b[0mread_csv\u001b[0m\u001b[0;34m(\u001b[0m\u001b[0mpath\u001b[0m\u001b[0;34m+\u001b[0m\u001b[0;34m\"SingaporeTest.csv\"\u001b[0m\u001b[0;34m)\u001b[0m\u001b[0;34m\u001b[0m\u001b[0m\n\u001b[0m\u001b[1;32m      3\u001b[0m     \u001b[0mtest_data_NY\u001b[0m \u001b[0;34m=\u001b[0m \u001b[0mpd\u001b[0m\u001b[0;34m.\u001b[0m\u001b[0mread_csv\u001b[0m\u001b[0;34m(\u001b[0m\u001b[0mpath\u001b[0m\u001b[0;34m+\u001b[0m\u001b[0;34m\"NYTest.csv\"\u001b[0m\u001b[0;34m)\u001b[0m\u001b[0;34m\u001b[0m\u001b[0m\n\u001b[1;32m      4\u001b[0m     \u001b[0mtest_data_London\u001b[0m \u001b[0;34m=\u001b[0m \u001b[0mpd\u001b[0m\u001b[0;34m.\u001b[0m\u001b[0mread_csv\u001b[0m\u001b[0;34m(\u001b[0m\u001b[0mpath\u001b[0m\u001b[0;34m+\u001b[0m\u001b[0;34m\"LondonTest.csv\"\u001b[0m\u001b[0;34m)\u001b[0m\u001b[0;34m\u001b[0m\u001b[0m\n\u001b[1;32m      5\u001b[0m \u001b[0;34m\u001b[0m\u001b[0m\n",
      "\u001b[0;32m~/anaconda3/lib/python3.6/site-packages/pandas/io/parsers.py\u001b[0m in \u001b[0;36mparser_f\u001b[0;34m(filepath_or_buffer, sep, delimiter, header, names, index_col, usecols, squeeze, prefix, mangle_dupe_cols, dtype, engine, converters, true_values, false_values, skipinitialspace, skiprows, nrows, na_values, keep_default_na, na_filter, verbose, skip_blank_lines, parse_dates, infer_datetime_format, keep_date_col, date_parser, dayfirst, iterator, chunksize, compression, thousands, decimal, lineterminator, quotechar, quoting, escapechar, comment, encoding, dialect, tupleize_cols, error_bad_lines, warn_bad_lines, skipfooter, doublequote, delim_whitespace, low_memory, memory_map, float_precision)\u001b[0m\n\u001b[1;32m    676\u001b[0m                     skip_blank_lines=skip_blank_lines)\n\u001b[1;32m    677\u001b[0m \u001b[0;34m\u001b[0m\u001b[0m\n\u001b[0;32m--> 678\u001b[0;31m         \u001b[0;32mreturn\u001b[0m \u001b[0m_read\u001b[0m\u001b[0;34m(\u001b[0m\u001b[0mfilepath_or_buffer\u001b[0m\u001b[0;34m,\u001b[0m \u001b[0mkwds\u001b[0m\u001b[0;34m)\u001b[0m\u001b[0;34m\u001b[0m\u001b[0m\n\u001b[0m\u001b[1;32m    679\u001b[0m \u001b[0;34m\u001b[0m\u001b[0m\n\u001b[1;32m    680\u001b[0m     \u001b[0mparser_f\u001b[0m\u001b[0;34m.\u001b[0m\u001b[0m__name__\u001b[0m \u001b[0;34m=\u001b[0m \u001b[0mname\u001b[0m\u001b[0;34m\u001b[0m\u001b[0m\n",
      "\u001b[0;32m~/anaconda3/lib/python3.6/site-packages/pandas/io/parsers.py\u001b[0m in \u001b[0;36m_read\u001b[0;34m(filepath_or_buffer, kwds)\u001b[0m\n\u001b[1;32m    438\u001b[0m \u001b[0;34m\u001b[0m\u001b[0m\n\u001b[1;32m    439\u001b[0m     \u001b[0;31m# Create the parser.\u001b[0m\u001b[0;34m\u001b[0m\u001b[0;34m\u001b[0m\u001b[0m\n\u001b[0;32m--> 440\u001b[0;31m     \u001b[0mparser\u001b[0m \u001b[0;34m=\u001b[0m \u001b[0mTextFileReader\u001b[0m\u001b[0;34m(\u001b[0m\u001b[0mfilepath_or_buffer\u001b[0m\u001b[0;34m,\u001b[0m \u001b[0;34m**\u001b[0m\u001b[0mkwds\u001b[0m\u001b[0;34m)\u001b[0m\u001b[0;34m\u001b[0m\u001b[0m\n\u001b[0m\u001b[1;32m    441\u001b[0m \u001b[0;34m\u001b[0m\u001b[0m\n\u001b[1;32m    442\u001b[0m     \u001b[0;32mif\u001b[0m \u001b[0mchunksize\u001b[0m \u001b[0;32mor\u001b[0m \u001b[0miterator\u001b[0m\u001b[0;34m:\u001b[0m\u001b[0;34m\u001b[0m\u001b[0m\n",
      "\u001b[0;32m~/anaconda3/lib/python3.6/site-packages/pandas/io/parsers.py\u001b[0m in \u001b[0;36m__init__\u001b[0;34m(self, f, engine, **kwds)\u001b[0m\n\u001b[1;32m    785\u001b[0m             \u001b[0mself\u001b[0m\u001b[0;34m.\u001b[0m\u001b[0moptions\u001b[0m\u001b[0;34m[\u001b[0m\u001b[0;34m'has_index_names'\u001b[0m\u001b[0;34m]\u001b[0m \u001b[0;34m=\u001b[0m \u001b[0mkwds\u001b[0m\u001b[0;34m[\u001b[0m\u001b[0;34m'has_index_names'\u001b[0m\u001b[0;34m]\u001b[0m\u001b[0;34m\u001b[0m\u001b[0m\n\u001b[1;32m    786\u001b[0m \u001b[0;34m\u001b[0m\u001b[0m\n\u001b[0;32m--> 787\u001b[0;31m         \u001b[0mself\u001b[0m\u001b[0;34m.\u001b[0m\u001b[0m_make_engine\u001b[0m\u001b[0;34m(\u001b[0m\u001b[0mself\u001b[0m\u001b[0;34m.\u001b[0m\u001b[0mengine\u001b[0m\u001b[0;34m)\u001b[0m\u001b[0;34m\u001b[0m\u001b[0m\n\u001b[0m\u001b[1;32m    788\u001b[0m \u001b[0;34m\u001b[0m\u001b[0m\n\u001b[1;32m    789\u001b[0m     \u001b[0;32mdef\u001b[0m \u001b[0mclose\u001b[0m\u001b[0;34m(\u001b[0m\u001b[0mself\u001b[0m\u001b[0;34m)\u001b[0m\u001b[0;34m:\u001b[0m\u001b[0;34m\u001b[0m\u001b[0m\n",
      "\u001b[0;32m~/anaconda3/lib/python3.6/site-packages/pandas/io/parsers.py\u001b[0m in \u001b[0;36m_make_engine\u001b[0;34m(self, engine)\u001b[0m\n\u001b[1;32m   1012\u001b[0m     \u001b[0;32mdef\u001b[0m \u001b[0m_make_engine\u001b[0m\u001b[0;34m(\u001b[0m\u001b[0mself\u001b[0m\u001b[0;34m,\u001b[0m \u001b[0mengine\u001b[0m\u001b[0;34m=\u001b[0m\u001b[0;34m'c'\u001b[0m\u001b[0;34m)\u001b[0m\u001b[0;34m:\u001b[0m\u001b[0;34m\u001b[0m\u001b[0m\n\u001b[1;32m   1013\u001b[0m         \u001b[0;32mif\u001b[0m \u001b[0mengine\u001b[0m \u001b[0;34m==\u001b[0m \u001b[0;34m'c'\u001b[0m\u001b[0;34m:\u001b[0m\u001b[0;34m\u001b[0m\u001b[0m\n\u001b[0;32m-> 1014\u001b[0;31m             \u001b[0mself\u001b[0m\u001b[0;34m.\u001b[0m\u001b[0m_engine\u001b[0m \u001b[0;34m=\u001b[0m \u001b[0mCParserWrapper\u001b[0m\u001b[0;34m(\u001b[0m\u001b[0mself\u001b[0m\u001b[0;34m.\u001b[0m\u001b[0mf\u001b[0m\u001b[0;34m,\u001b[0m \u001b[0;34m**\u001b[0m\u001b[0mself\u001b[0m\u001b[0;34m.\u001b[0m\u001b[0moptions\u001b[0m\u001b[0;34m)\u001b[0m\u001b[0;34m\u001b[0m\u001b[0m\n\u001b[0m\u001b[1;32m   1015\u001b[0m         \u001b[0;32melse\u001b[0m\u001b[0;34m:\u001b[0m\u001b[0;34m\u001b[0m\u001b[0m\n\u001b[1;32m   1016\u001b[0m             \u001b[0;32mif\u001b[0m \u001b[0mengine\u001b[0m \u001b[0;34m==\u001b[0m \u001b[0;34m'python'\u001b[0m\u001b[0;34m:\u001b[0m\u001b[0;34m\u001b[0m\u001b[0m\n",
      "\u001b[0;32m~/anaconda3/lib/python3.6/site-packages/pandas/io/parsers.py\u001b[0m in \u001b[0;36m__init__\u001b[0;34m(self, src, **kwds)\u001b[0m\n\u001b[1;32m   1706\u001b[0m         \u001b[0mkwds\u001b[0m\u001b[0;34m[\u001b[0m\u001b[0;34m'usecols'\u001b[0m\u001b[0;34m]\u001b[0m \u001b[0;34m=\u001b[0m \u001b[0mself\u001b[0m\u001b[0;34m.\u001b[0m\u001b[0musecols\u001b[0m\u001b[0;34m\u001b[0m\u001b[0m\n\u001b[1;32m   1707\u001b[0m \u001b[0;34m\u001b[0m\u001b[0m\n\u001b[0;32m-> 1708\u001b[0;31m         \u001b[0mself\u001b[0m\u001b[0;34m.\u001b[0m\u001b[0m_reader\u001b[0m \u001b[0;34m=\u001b[0m \u001b[0mparsers\u001b[0m\u001b[0;34m.\u001b[0m\u001b[0mTextReader\u001b[0m\u001b[0;34m(\u001b[0m\u001b[0msrc\u001b[0m\u001b[0;34m,\u001b[0m \u001b[0;34m**\u001b[0m\u001b[0mkwds\u001b[0m\u001b[0;34m)\u001b[0m\u001b[0;34m\u001b[0m\u001b[0m\n\u001b[0m\u001b[1;32m   1709\u001b[0m \u001b[0;34m\u001b[0m\u001b[0m\n\u001b[1;32m   1710\u001b[0m         \u001b[0mpassed_names\u001b[0m \u001b[0;34m=\u001b[0m \u001b[0mself\u001b[0m\u001b[0;34m.\u001b[0m\u001b[0mnames\u001b[0m \u001b[0;32mis\u001b[0m \u001b[0;32mNone\u001b[0m\u001b[0;34m\u001b[0m\u001b[0m\n",
      "\u001b[0;32mpandas/_libs/parsers.pyx\u001b[0m in \u001b[0;36mpandas._libs.parsers.TextReader.__cinit__\u001b[0;34m()\u001b[0m\n",
      "\u001b[0;32mpandas/_libs/parsers.pyx\u001b[0m in \u001b[0;36mpandas._libs.parsers.TextReader._setup_parser_source\u001b[0;34m()\u001b[0m\n",
      "\u001b[0;31mFileNotFoundError\u001b[0m: File b'./data/SingaporeTest.csv' does not exist"
     ]
    }
   ],
   "source": [
    "path = \"../../dataFromWebsite/testSets_groundTruth/\"\n",
    "test_data_with_labels = process_test_csv(path)\n",
    "X, y = test_data_with_labels.drop(columns=['ageGroup']), test_data_with_labels.ageGroup"
   ]
  },
  {
   "cell_type": "code",
   "execution_count": 127,
   "metadata": {},
   "outputs": [],
   "source": [
    "X['w_working_now'] = X['w_working_now'].astype('uint8')"
   ]
  },
  {
   "cell_type": "markdown",
   "metadata": {},
   "source": [
    "## Predicting and scores"
   ]
  },
  {
   "cell_type": "code",
   "execution_count": 118,
   "metadata": {},
   "outputs": [
    {
     "ename": "NameError",
     "evalue": "name 'X' is not defined",
     "output_type": "error",
     "traceback": [
      "\u001b[0;31m---------------------------------------------------------------------------\u001b[0m",
      "\u001b[0;31mNameError\u001b[0m                                 Traceback (most recent call last)",
      "\u001b[0;32m<timed exec>\u001b[0m in \u001b[0;36m<module>\u001b[0;34m()\u001b[0m\n",
      "\u001b[0;31mNameError\u001b[0m: name 'X' is not defined"
     ]
    }
   ],
   "source": [
    "%%time\n",
    "y_pred_on_test_file = rf_cls.predict(X)\n",
    "\n",
    "print(\"F1 score on test.csv:\", f1_score(y, y_pred_on_test_file, average='weighted'))\n",
    "print(\"Accuracy on test.csv:\", accuracy_score(y, y_pred_on_test_file))"
   ]
  },
  {
   "cell_type": "code",
   "execution_count": 128,
   "metadata": {},
   "outputs": [
    {
     "ename": "ValueError",
     "evalue": "feature_names mismatch: ['realAge', 'income', 'w_start_year', 'w_number_of_places', 'w_total_length', 'w_mean_length', 'w_min_length', 'w_max_length', 'w_working_now', 'e_first_start_year', 'e_last_start_year', 'e_finish_year', 'e_number_of_programs', 'gender_female', 'gender_male', 'relationship_in a relationship', 'relationship_married', 'relationship_single', 'educationLevel_college', 'educationLevel_graduate', 'educationLevel_school', 'educationLevel_undergraduate', 'occupation_archetecture and engineering', 'occupation_arts, design, entertainment, sports, and media', 'occupation_building and grounds cleaning and maintenance', 'occupation_business and financial operations', 'occupation_community and social service', 'occupation_computer and mathematical', 'occupation_construction and extraction', 'occupation_education, training, and library', 'occupation_farming, fishing and forestry', 'occupation_food preparation and service related', 'occupation_healthcare practitioners and technical', 'occupation_healthcare support', 'occupation_legal', 'occupation_life, physical, and social science', 'occupation_management', 'occupation_office and administrative support', 'occupation_personal care and service', 'occupation_production', 'occupation_protective service', 'occupation_sales and related', 'occupation_transportation and material moving', 'source_London', 'source_NY', 'source_Singapore'] ['realAge', 'income', 'w_start_year', 'w_number_of_places', 'w_total_length', 'w_mean_length', 'w_min_length', 'w_max_length', 'w_working_now', 'e_first_start_year', 'e_last_start_year', 'e_finish_year', 'e_number_of_programs', 'gender_female', 'gender_male', 'relationship_in a relationship', 'relationship_married', 'relationship_single', 'educationLevel_college', 'educationLevel_graduate', 'educationLevel_school', 'educationLevel_undergraduate', 'occupation_archetecture and engineering', 'occupation_arts, design, entertainment, sports, and media', 'occupation_business and financial operations', 'occupation_community and social service', 'occupation_computer and mathematical', 'occupation_construction and extraction', 'occupation_education, training, and library', 'occupation_farming, fishing and forestry', 'occupation_food preparation and service related', 'occupation_healthcare practitioners and technical', 'occupation_healthcare support', 'occupation_legal', 'occupation_life, physical, and social science', 'occupation_management', 'occupation_office and administrative support', 'occupation_personal care and service', 'occupation_production', 'occupation_protective service', 'occupation_sales and related', 'occupation_transportation and material moving', 'source_London', 'source_NY', 'source_Singapore', 'occupation_building and grounds cleaning and maintenance']",
     "output_type": "error",
     "traceback": [
      "\u001b[0;31m---------------------------------------------------------------------------\u001b[0m",
      "\u001b[0;31mValueError\u001b[0m                                Traceback (most recent call last)",
      "\u001b[0;32m<timed exec>\u001b[0m in \u001b[0;36m<module>\u001b[0;34m()\u001b[0m\n",
      "\u001b[0;32m~/anaconda3/lib/python3.6/site-packages/xgboost/sklearn.py\u001b[0m in \u001b[0;36mpredict\u001b[0;34m(self, data, output_margin, ntree_limit, validate_features)\u001b[0m\n\u001b[1;32m    757\u001b[0m                                                  \u001b[0moutput_margin\u001b[0m\u001b[0;34m=\u001b[0m\u001b[0moutput_margin\u001b[0m\u001b[0;34m,\u001b[0m\u001b[0;34m\u001b[0m\u001b[0m\n\u001b[1;32m    758\u001b[0m                                                  \u001b[0mntree_limit\u001b[0m\u001b[0;34m=\u001b[0m\u001b[0mntree_limit\u001b[0m\u001b[0;34m,\u001b[0m\u001b[0;34m\u001b[0m\u001b[0m\n\u001b[0;32m--> 759\u001b[0;31m                                                  validate_features=validate_features)\n\u001b[0m\u001b[1;32m    760\u001b[0m         \u001b[0;32mif\u001b[0m \u001b[0moutput_margin\u001b[0m\u001b[0;34m:\u001b[0m\u001b[0;34m\u001b[0m\u001b[0m\n\u001b[1;32m    761\u001b[0m             \u001b[0;31m# If output_margin is active, simply return the scores\u001b[0m\u001b[0;34m\u001b[0m\u001b[0;34m\u001b[0m\u001b[0m\n",
      "\u001b[0;32m~/anaconda3/lib/python3.6/site-packages/xgboost/core.py\u001b[0m in \u001b[0;36mpredict\u001b[0;34m(self, data, output_margin, ntree_limit, pred_leaf, pred_contribs, approx_contribs, pred_interactions, validate_features)\u001b[0m\n\u001b[1;32m   1216\u001b[0m \u001b[0;34m\u001b[0m\u001b[0m\n\u001b[1;32m   1217\u001b[0m         \u001b[0;32mif\u001b[0m \u001b[0mvalidate_features\u001b[0m\u001b[0;34m:\u001b[0m\u001b[0;34m\u001b[0m\u001b[0m\n\u001b[0;32m-> 1218\u001b[0;31m             \u001b[0mself\u001b[0m\u001b[0;34m.\u001b[0m\u001b[0m_validate_features\u001b[0m\u001b[0;34m(\u001b[0m\u001b[0mdata\u001b[0m\u001b[0;34m)\u001b[0m\u001b[0;34m\u001b[0m\u001b[0m\n\u001b[0m\u001b[1;32m   1219\u001b[0m \u001b[0;34m\u001b[0m\u001b[0m\n\u001b[1;32m   1220\u001b[0m         \u001b[0mlength\u001b[0m \u001b[0;34m=\u001b[0m \u001b[0mc_bst_ulong\u001b[0m\u001b[0;34m(\u001b[0m\u001b[0;34m)\u001b[0m\u001b[0;34m\u001b[0m\u001b[0m\n",
      "\u001b[0;32m~/anaconda3/lib/python3.6/site-packages/xgboost/core.py\u001b[0m in \u001b[0;36m_validate_features\u001b[0;34m(self, data)\u001b[0m\n\u001b[1;32m   1539\u001b[0m \u001b[0;34m\u001b[0m\u001b[0m\n\u001b[1;32m   1540\u001b[0m                 raise ValueError(msg.format(self.feature_names,\n\u001b[0;32m-> 1541\u001b[0;31m                                             data.feature_names))\n\u001b[0m\u001b[1;32m   1542\u001b[0m \u001b[0;34m\u001b[0m\u001b[0m\n\u001b[1;32m   1543\u001b[0m     \u001b[0;32mdef\u001b[0m \u001b[0mget_split_value_histogram\u001b[0m\u001b[0;34m(\u001b[0m\u001b[0mself\u001b[0m\u001b[0;34m,\u001b[0m \u001b[0mfeature\u001b[0m\u001b[0;34m,\u001b[0m \u001b[0mfmap\u001b[0m\u001b[0;34m=\u001b[0m\u001b[0;34m''\u001b[0m\u001b[0;34m,\u001b[0m \u001b[0mbins\u001b[0m\u001b[0;34m=\u001b[0m\u001b[0;32mNone\u001b[0m\u001b[0;34m,\u001b[0m \u001b[0mas_pandas\u001b[0m\u001b[0;34m=\u001b[0m\u001b[0;32mTrue\u001b[0m\u001b[0;34m)\u001b[0m\u001b[0;34m:\u001b[0m\u001b[0;34m\u001b[0m\u001b[0m\n",
      "\u001b[0;31mValueError\u001b[0m: feature_names mismatch: ['realAge', 'income', 'w_start_year', 'w_number_of_places', 'w_total_length', 'w_mean_length', 'w_min_length', 'w_max_length', 'w_working_now', 'e_first_start_year', 'e_last_start_year', 'e_finish_year', 'e_number_of_programs', 'gender_female', 'gender_male', 'relationship_in a relationship', 'relationship_married', 'relationship_single', 'educationLevel_college', 'educationLevel_graduate', 'educationLevel_school', 'educationLevel_undergraduate', 'occupation_archetecture and engineering', 'occupation_arts, design, entertainment, sports, and media', 'occupation_building and grounds cleaning and maintenance', 'occupation_business and financial operations', 'occupation_community and social service', 'occupation_computer and mathematical', 'occupation_construction and extraction', 'occupation_education, training, and library', 'occupation_farming, fishing and forestry', 'occupation_food preparation and service related', 'occupation_healthcare practitioners and technical', 'occupation_healthcare support', 'occupation_legal', 'occupation_life, physical, and social science', 'occupation_management', 'occupation_office and administrative support', 'occupation_personal care and service', 'occupation_production', 'occupation_protective service', 'occupation_sales and related', 'occupation_transportation and material moving', 'source_London', 'source_NY', 'source_Singapore'] ['realAge', 'income', 'w_start_year', 'w_number_of_places', 'w_total_length', 'w_mean_length', 'w_min_length', 'w_max_length', 'w_working_now', 'e_first_start_year', 'e_last_start_year', 'e_finish_year', 'e_number_of_programs', 'gender_female', 'gender_male', 'relationship_in a relationship', 'relationship_married', 'relationship_single', 'educationLevel_college', 'educationLevel_graduate', 'educationLevel_school', 'educationLevel_undergraduate', 'occupation_archetecture and engineering', 'occupation_arts, design, entertainment, sports, and media', 'occupation_business and financial operations', 'occupation_community and social service', 'occupation_computer and mathematical', 'occupation_construction and extraction', 'occupation_education, training, and library', 'occupation_farming, fishing and forestry', 'occupation_food preparation and service related', 'occupation_healthcare practitioners and technical', 'occupation_healthcare support', 'occupation_legal', 'occupation_life, physical, and social science', 'occupation_management', 'occupation_office and administrative support', 'occupation_personal care and service', 'occupation_production', 'occupation_protective service', 'occupation_sales and related', 'occupation_transportation and material moving', 'source_London', 'source_NY', 'source_Singapore', 'occupation_building and grounds cleaning and maintenance']"
     ]
    }
   ],
   "source": [
    "%%time\n",
    "y_pred_on_test_file = xgb_cls.predict(X)\n",
    "\n",
    "print(\"F1 score on test.csv:\", f1_score(y, y_pred_on_test_file, average='weighted'))\n",
    "print(\"Accuracy on test.csv:\", accuracy_score(y, y_pred_on_test_file))"
   ]
  },
  {
   "cell_type": "markdown",
   "metadata": {},
   "source": [
    "## Confusion Matrix"
   ]
  },
  {
   "cell_type": "code",
   "execution_count": 35,
   "metadata": {
    "scrolled": true
   },
   "outputs": [
    {
     "name": "stdout",
     "output_type": "stream",
     "text": [
      "Predicted  AGE10_20  AGE20_30  AGE30_40  AGE50_INF\n",
      "Actual                                            \n",
      "AGE10_20         17        18         0          0\n",
      "AGE20_30          4       309         1          0\n",
      "AGE30_40          0        18        70          0\n",
      "AGE40_50          0         4        24          5\n",
      "AGE50_INF         0         2        12          4\n"
     ]
    }
   ],
   "source": [
    "reversefactor = dict(zip(range(5),LE.classes_))\n",
    "y_test = np.vectorize(reversefactor.get)(y)\n",
    "y_pred_on_test_file = np.vectorize(reversefactor.get)(y_pred_on_test_file)\n",
    "# Making the Confusion Matrix\n",
    "print(pd.crosstab(y_test, y_pred_on_test_file, rownames=['Actual'], colnames=['Predicted']))"
   ]
  },
  {
   "cell_type": "code",
   "execution_count": null,
   "metadata": {},
   "outputs": [],
   "source": []
  }
 ],
 "metadata": {
  "kernelspec": {
   "display_name": "Python 3",
   "language": "python",
   "name": "python3"
  },
  "language_info": {
   "codemirror_mode": {
    "name": "ipython",
    "version": 3
   },
   "file_extension": ".py",
   "mimetype": "text/x-python",
   "name": "python",
   "nbconvert_exporter": "python",
   "pygments_lexer": "ipython3",
   "version": "3.6.5"
  },
  "toc": {
   "base_numbering": 1,
   "nav_menu": {},
   "number_sections": true,
   "sideBar": true,
   "skip_h1_title": false,
   "title_cell": "Table of Contents",
   "title_sidebar": "Contents",
   "toc_cell": false,
   "toc_position": {},
   "toc_section_display": true,
   "toc_window_display": false
  }
 },
 "nbformat": 4,
 "nbformat_minor": 2
}
